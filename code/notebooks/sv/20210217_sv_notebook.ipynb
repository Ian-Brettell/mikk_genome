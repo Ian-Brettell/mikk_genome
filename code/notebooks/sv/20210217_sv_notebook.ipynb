{
 "cells": [
  {
   "cell_type": "markdown",
   "metadata": {},
   "source": [
    "# Setup"
   ]
  },
  {
   "cell_type": "code",
   "execution_count": 18,
   "metadata": {
    "scrolled": true
   },
   "outputs": [
    {
     "name": "stderr",
     "output_type": "stream",
     "text": [
      "\u001b[32m\u001b[1m  Resolving\u001b[22m\u001b[39m package versions...\n",
      "\u001b[32m\u001b[1m  Installed\u001b[22m\u001b[39m OpenBLAS_jll ────── v0.3.9+5\n",
      "\u001b[32m\u001b[1m  Installed\u001b[22m\u001b[39m MKL_jll ─────────── v2021.1.1+1\n",
      "\u001b[32m\u001b[1m  Installed\u001b[22m\u001b[39m StatsPlots ──────── v0.14.19\n",
      "\u001b[32m\u001b[1m  Installed\u001b[22m\u001b[39m LazyArtifacts ───── v1.3.0\n",
      "\u001b[32m\u001b[1m  Installed\u001b[22m\u001b[39m TableOperations ─── v1.0.0\n",
      "\u001b[32m\u001b[1m  Installed\u001b[22m\u001b[39m Arpack ──────────── v0.4.0\n",
      "\u001b[32m\u001b[1m  Installed\u001b[22m\u001b[39m NearestNeighbors ── v0.4.8\n",
      "\u001b[32m\u001b[1m  Installed\u001b[22m\u001b[39m MultivariateStats ─ v0.8.0\n",
      "\u001b[32m\u001b[1m  Installed\u001b[22m\u001b[39m Arpack_jll ──────── v3.5.0+3\n",
      "\u001b[32m\u001b[1m  Installed\u001b[22m\u001b[39m FFTW ────────────── v1.3.2\n",
      "\u001b[32m\u001b[1m  Installed\u001b[22m\u001b[39m Distances ───────── v0.10.2\n",
      "\u001b[32m\u001b[1m  Installed\u001b[22m\u001b[39m Clustering ──────── v0.14.2\n",
      "\u001b[32m\u001b[1mUpdating\u001b[22m\u001b[39m `/hps/research1/birney/users/ian/mikk_paper/mikk_genome/Project.toml`\n",
      " \u001b[90m [f3b207a7] \u001b[39m\u001b[92m+ StatsPlots v0.14.19\u001b[39m\n",
      "\u001b[32m\u001b[1mUpdating\u001b[22m\u001b[39m `/hps/research1/birney/users/ian/mikk_paper/mikk_genome/Manifest.toml`\n",
      " \u001b[90m [621f4979] \u001b[39m\u001b[92m+ AbstractFFTs v1.0.0\u001b[39m\n",
      " \u001b[90m [7d9fca2a] \u001b[39m\u001b[92m+ Arpack v0.4.0\u001b[39m\n",
      " \u001b[90m [68821587] \u001b[39m\u001b[92m+ Arpack_jll v3.5.0+3\u001b[39m\n",
      " \u001b[90m [13072b0f] \u001b[39m\u001b[92m+ AxisAlgorithms v1.0.0\u001b[39m\n",
      " \u001b[90m [aaaa29a8] \u001b[39m\u001b[92m+ Clustering v0.14.2\u001b[39m\n",
      " \u001b[90m [b4f34e82] \u001b[39m\u001b[92m+ Distances v0.10.2\u001b[39m\n",
      " \u001b[90m [ffbed154] \u001b[39m\u001b[92m+ DocStringExtensions v0.8.3\u001b[39m\n",
      " \u001b[90m [7a1cc6ca] \u001b[39m\u001b[92m+ FFTW v1.3.2\u001b[39m\n",
      " \u001b[90m [f5851436] \u001b[39m\u001b[92m+ FFTW_jll v3.3.9+7\u001b[39m\n",
      " \u001b[90m [1d5cc7b8] \u001b[39m\u001b[92m+ IntelOpenMP_jll v2018.0.3+2\u001b[39m\n",
      " \u001b[90m [a98d9a8b] \u001b[39m\u001b[92m+ Interpolations v0.13.1\u001b[39m\n",
      " \u001b[90m [5ab0869b] \u001b[39m\u001b[92m+ KernelDensity v0.6.2\u001b[39m\n",
      " \u001b[90m [4af54fe1] \u001b[39m\u001b[92m+ LazyArtifacts v1.3.0\u001b[39m\n",
      " \u001b[90m [856f044c] \u001b[39m\u001b[92m+ MKL_jll v2021.1.1+1\u001b[39m\n",
      " \u001b[90m [6f286f6a] \u001b[39m\u001b[92m+ MultivariateStats v0.8.0\u001b[39m\n",
      " \u001b[90m [b8a86587] \u001b[39m\u001b[92m+ NearestNeighbors v0.4.8\u001b[39m\n",
      " \u001b[90m [4536629a] \u001b[39m\u001b[92m+ OpenBLAS_jll v0.3.9+5\u001b[39m\n",
      " \u001b[90m [c84ed2f1] \u001b[39m\u001b[92m+ Ratios v0.4.0\u001b[39m\n",
      " \u001b[90m [f3b207a7] \u001b[39m\u001b[92m+ StatsPlots v0.14.19\u001b[39m\n",
      " \u001b[90m [ab02a1b2] \u001b[39m\u001b[92m+ TableOperations v1.0.0\u001b[39m\n",
      " \u001b[90m [efce3f68] \u001b[39m\u001b[92m+ WoodburyMatrices v0.5.3\u001b[39m\n",
      "\u001b[32m\u001b[1m   Building\u001b[22m\u001b[39m FFTW → `~/.julia/packages/FFTW/G3lSO/deps/build.log`\n"
     ]
    }
   ],
   "source": [
    "using Pkg; Pkg.add(\"StatsPlots\")"
   ]
  },
  {
   "cell_type": "code",
   "execution_count": 20,
   "metadata": {
    "scrolled": true
   },
   "outputs": [
    {
     "name": "stderr",
     "output_type": "stream",
     "text": [
      "┌ Info: Precompiling CSV [336ed68f-0bac-5ca0-87d4-7b16caf5d00b]\n",
      "└ @ Base loading.jl:1278\n"
     ]
    }
   ],
   "source": [
    "using Glob, DataFrames, StatsPlots, Interact, CSV"
   ]
  },
  {
   "cell_type": "markdown",
   "metadata": {},
   "source": [
    "## Get files"
   ]
  },
  {
   "cell_type": "code",
   "execution_count": 4,
   "metadata": {},
   "outputs": [
    {
     "data": {
      "text/plain": [
       "\"/hps/research1/birney/users/ian/mikk_paper/\""
      ]
     },
     "execution_count": 4,
     "metadata": {},
     "output_type": "execute_result"
    }
   ],
   "source": [
    "proj_dir = \"/hps/research1/birney/users/ian/mikk_paper/\""
   ]
  },
  {
   "cell_type": "code",
   "execution_count": 5,
   "metadata": {},
   "outputs": [
    {
     "data": {
      "text/plain": [
       "\"/hps/research1/birney/users/ian/mikk_paper/mikk_genome\""
      ]
     },
     "execution_count": 5,
     "metadata": {},
     "output_type": "execute_result"
    }
   ],
   "source": [
    "repo = joinpath(proj_dir, \"mikk_genome\")"
   ]
  },
  {
   "cell_type": "code",
   "execution_count": 22,
   "metadata": {},
   "outputs": [
    {
     "data": {
      "text/plain": [
       "\"/hps/research1/birney/users/ian/mikk_paper/mikk_genome/data/sv_analysis/20210217_sviper_filter_pass\""
      ]
     },
     "execution_count": 22,
     "metadata": {},
     "output_type": "execute_result"
    }
   ],
   "source": [
    "data_dir = joinpath(repo, \"data/sv_analysis/20210217_sviper_filter_pass\")"
   ]
  },
  {
   "cell_type": "code",
   "execution_count": 26,
   "metadata": {},
   "outputs": [
    {
     "data": {
      "text/plain": [
       "9-element Array{String,1}:\n",
       " \"/hps/research1/birney/users/ian/mikk_paper/mikk_genome/data/sv_analysis/20210217_sviper_filter_pass/11-1.csv\"\n",
       " \"/hps/research1/birney/users/ian/mikk_paper/mikk_genome/data/sv_analysis/20210217_sviper_filter_pass/117-2.csv\"\n",
       " \"/hps/research1/birney/users/ian/mikk_paper/mikk_genome/data/sv_analysis/20210217_sviper_filter_pass/131-1.csv\"\n",
       " \"/hps/research1/birney/users/ian/mikk_paper/mikk_genome/data/sv_analysis/20210217_sviper_filter_pass/134-1.csv\"\n",
       " \"/hps/research1/birney/users/ian/mikk_paper/mikk_genome/data/sv_analysis/20210217_sviper_filter_pass/134-2.csv\"\n",
       " \"/hps/research1/birney/users/ian/mikk_paper/mikk_genome/data/sv_analysis/20210217_sviper_filter_pass/69-1.csv\"\n",
       " \"/hps/research1/birney/users/ian/mikk_paper/mikk_genome/data/sv_analysis/20210217_sviper_filter_pass/7-1.csv\"\n",
       " \"/hps/research1/birney/users/ian/mikk_paper/mikk_genome/data/sv_analysis/20210217_sviper_filter_pass/79-2.csv\"\n",
       " \"/hps/research1/birney/users/ian/mikk_paper/mikk_genome/data/sv_analysis/20210217_sviper_filter_pass/80-1.csv\""
      ]
     },
     "execution_count": 26,
     "metadata": {},
     "output_type": "execute_result"
    }
   ],
   "source": [
    "in_files = Glob.glob(\"*.csv\", data_dir)"
   ]
  },
  {
   "cell_type": "code",
   "execution_count": 57,
   "metadata": {
    "scrolled": true
   },
   "outputs": [
    {
     "data": {
      "text/plain": [
       "9-element Array{String,1}:\n",
       " \"11-1\"\n",
       " \"117-2\"\n",
       " \"131-1\"\n",
       " \"134-1\"\n",
       " \"134-2\"\n",
       " \"69-1\"\n",
       " \"7-1\"\n",
       " \"79-2\"\n",
       " \"80-1\""
      ]
     },
     "execution_count": 57,
     "metadata": {},
     "output_type": "execute_result"
    }
   ],
   "source": [
    "samples = replace.(basename.(in_files), \".csv\"=>\"\")"
   ]
  },
  {
   "cell_type": "code",
   "execution_count": 64,
   "metadata": {},
   "outputs": [
    {
     "data": {
      "text/plain": [
       "9-element Array{String,1}:\n",
       " \"11-1\"\n",
       " \"117-2\"\n",
       " \"131-1\"\n",
       " \"134-1\"\n",
       " \"134-2\"\n",
       " \"69-1\"\n",
       " \"7-1\"\n",
       " \"79-2\"\n",
       " \"80-1\""
      ]
     },
     "execution_count": 64,
     "metadata": {},
     "output_type": "execute_result"
    }
   ],
   "source": [
    "samples"
   ]
  },
  {
   "cell_type": "code",
   "execution_count": 73,
   "metadata": {},
   "outputs": [
    {
     "name": "stdout",
     "output_type": "stream",
     "text": [
      "11-1\n",
      "117-2\n",
      "131-1\n",
      "134-1\n",
      "134-2\n",
      "69-1\n",
      "7-1\n",
      "79-2\n",
      "80-1\n"
     ]
    }
   ],
   "source": [
    "for (i, file) in enumerate(in_files)\n",
    "    df"
   ]
  },
  {
   "cell_type": "code",
   "execution_count": 63,
   "metadata": {
    "scrolled": true
   },
   "outputs": [
    {
     "data": {
      "text/plain": [
       "Dict{String,Array{Any,1}} with 9 entries:\n",
       "  \"7-1\"   => Any[]\n",
       "  \"69-1\"  => Any[]\n",
       "  \"134-1\" => Any[]\n",
       "  \"117-2\" => Any[]\n",
       "  \"80-1\"  => Any[]\n",
       "  \"11-1\"  => Any[]\n",
       "  \"131-1\" => Any[]\n",
       "  \"79-2\"  => Any[]\n",
       "  \"134-2\" => Any[]"
      ]
     },
     "execution_count": 63,
     "metadata": {},
     "output_type": "execute_result"
    }
   ],
   "source": [
    "output = Dict(sample => [] for sample in samples)"
   ]
  },
  {
   "cell_type": "code",
   "execution_count": 61,
   "metadata": {
    "scrolled": true
   },
   "outputs": [
    {
     "ename": "LoadError",
     "evalue": "BoundsError: attempt to access 0-element Array{Any,1} at index [1]",
     "output_type": "error",
     "traceback": [
      "BoundsError: attempt to access 0-element Array{Any,1} at index [1]",
      "",
      "Stacktrace:",
      " [1] setindex!(::Array{Any,1}, ::Any, ::Int64) at ./essentials.jl:452",
      " [2] top-level scope at ./In[61]:3",
      " [3] include_string(::Function, ::Module, ::String, ::String) at ./loading.jl:1091"
     ]
    }
   ],
   "source": [
    "output = Dict(sample => [] for sample in samples)\n",
    "\n",
    "for (i, file) in enumerate(in_files)\n",
    "    sample\n",
    "    dfs[i] = DataFrame(CSV.File(file))\n",
    "    push!(output[trait_a], p_out)\n",
    "end    "
   ]
  },
  {
   "cell_type": "code",
   "execution_count": null,
   "metadata": {},
   "outputs": [],
   "source": [
    "output = Dict(trait => [] for trait in traits)"
   ]
  },
  {
   "cell_type": "code",
   "execution_count": 62,
   "metadata": {},
   "outputs": [
    {
     "name": "stdout",
     "output_type": "stream",
     "text": [
      "search: is\u001b[0m\u001b[1ma\u001b[22m\u001b[0m\u001b[1ms\u001b[22m\u001b[0m\u001b[1ms\u001b[22m\u001b[0m\u001b[1mi\u001b[22m\u001b[0m\u001b[1mg\u001b[22m\u001b[0m\u001b[1mn\u001b[22med p\u001b[0m\u001b[1ma\u001b[22m\u001b[0m\u001b[1ms\u001b[22m\u001b[0m\u001b[1ms\u001b[22mm\u001b[0m\u001b[1mi\u001b[22mssin\u001b[0m\u001b[1mg\u001b[22m \u001b[0m\u001b[1ma\u001b[22mllowmi\u001b[0m\u001b[1ms\u001b[22m\u001b[0m\u001b[1ms\u001b[22m\u001b[0m\u001b[1mi\u001b[22mn\u001b[0m\u001b[1mg\u001b[22m! \u001b[0m\u001b[1ma\u001b[22mllowmi\u001b[0m\u001b[1ms\u001b[22m\u001b[0m\u001b[1ms\u001b[22m\u001b[0m\u001b[1mi\u001b[22mn\u001b[0m\u001b[1mg\u001b[22m dis\u001b[0m\u001b[1ma\u001b[22mllowmi\u001b[0m\u001b[1ms\u001b[22m\u001b[0m\u001b[1ms\u001b[22m\u001b[0m\u001b[1mi\u001b[22mn\u001b[0m\u001b[1mg\u001b[22m!\n",
      "\n",
      "Couldn't find \u001b[36massign\u001b[39m\n",
      "Perhaps you meant asin, sign, ascii, asind, asinh, sin or isassigned\n"
     ]
    },
    {
     "data": {
      "text/latex": [
       "No documentation found.\n",
       "\n",
       "Binding \\texttt{assign} does not exist.\n",
       "\n"
      ],
      "text/markdown": [
       "No documentation found.\n",
       "\n",
       "Binding `assign` does not exist.\n"
      ],
      "text/plain": [
       "  No documentation found.\n",
       "\n",
       "  Binding \u001b[36massign\u001b[39m does not exist."
      ]
     },
     "execution_count": 62,
     "metadata": {},
     "output_type": "execute_result"
    }
   ],
   "source": [
    "?assign"
   ]
  },
  {
   "cell_type": "code",
   "execution_count": null,
   "metadata": {},
   "outputs": [],
   "source": []
  }
 ],
 "metadata": {
  "kernelspec": {
   "display_name": "Julia 1.5.3",
   "language": "julia",
   "name": "julia-1.5"
  },
  "language_info": {
   "file_extension": ".jl",
   "mimetype": "application/julia",
   "name": "julia",
   "version": "1.5.3"
  }
 },
 "nbformat": 4,
 "nbformat_minor": 4
}
