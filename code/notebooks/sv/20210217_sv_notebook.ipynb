{
 "cells": [
  {
   "cell_type": "markdown",
   "metadata": {},
   "source": [
    "# Setup"
   ]
  },
  {
   "cell_type": "code",
   "execution_count": 142,
   "metadata": {
    "scrolled": true
   },
   "outputs": [
    {
     "name": "stdout",
     "output_type": "stream",
     "text": [
      "\u001b[?25l    "
     ]
    },
    {
     "name": "stderr",
     "output_type": "stream",
     "text": [
      "\u001b[32m\u001b[1m    Cloning\u001b[22m\u001b[39m git-repo `https://github.com/OpenMendel/VCFTools.jl`\n"
     ]
    },
    {
     "name": "stdout",
     "output_type": "stream",
     "text": [
      "\u001b[36m\u001b[1mFetching:\u001b[22m\u001b[39m [>                                        ]  0.0 %\r",
      "    \u001b[36m\u001b[1mFetching:\u001b[22m\u001b[39m [=>                                       ]  0.1 %\r",
      "    \u001b[36m\u001b[1mFetching:\u001b[22m\u001b[39m [=>                                       ]  0.3 %\r",
      "    \u001b[36m\u001b[1mFetching:\u001b[22m\u001b[39m [=>                                       ]  0.4 %\r",
      "    \u001b[36m\u001b[1mFetching:\u001b[22m\u001b[39m [=>                                       ]  0.6 %\r",
      "    \u001b[36m\u001b[1mFetching:\u001b[22m\u001b[39m [=>                                       ]  0.7 %\r",
      "    \u001b[36m\u001b[1mFetching:\u001b[22m\u001b[39m [=>                                       ]  0.8 %\r",
      "    \u001b[36m\u001b[1mFetching:\u001b[22m\u001b[39m [=>                                       ]  1.0 %\r",
      "    \u001b[36m\u001b[1mFetching:\u001b[22m\u001b[39m [=>                                       ]  1.1 %\r",
      "    \u001b[36m\u001b[1mFetching:\u001b[22m\u001b[39m [=>                                       ]  1.2 %\r",
      "    \u001b[36m\u001b[1mFetching:\u001b[22m\u001b[39m [=>                                       ]  1.4 %\r",
      "    \u001b[36m\u001b[1mFetching:\u001b[22m\u001b[39m [=>                                       ]  1.5 %\r",
      "    \u001b[36m\u001b[1mFetching:\u001b[22m\u001b[39m [=>                                       ]  1.7 %\r",
      "    \u001b[36m\u001b[1mFetching:\u001b[22m\u001b[39m [=>                                       ]  1.8 %\r",
      "    \u001b[36m\u001b[1mFetching:\u001b[22m\u001b[39m [=>                                       ]  1.9 %\r",
      "    \u001b[36m\u001b[1mFetching:\u001b[22m\u001b[39m [=>                                       ]  2.1 %\r",
      "    \u001b[36m\u001b[1mFetching:\u001b[22m\u001b[39m [=>                                       ]  2.2 %\r",
      "    \u001b[36m\u001b[1mFetching:\u001b[22m\u001b[39m [=>                                       ]  2.4 %\r",
      "    \u001b[36m\u001b[1mFetching:\u001b[22m\u001b[39m [=>                                       ]  2.5 %\r",
      "    \u001b[36m\u001b[1mFetching:\u001b[22m\u001b[39m [==>                                      ]  2.6 %\r",
      "    \u001b[36m\u001b[1mFetching:\u001b[22m\u001b[39m [==>                                      ]  2.8 %\r",
      "    \u001b[36m\u001b[1mFetching:\u001b[22m\u001b[39m [==>                                      ]  2.9 %\r",
      "    \u001b[36m\u001b[1mFetching:\u001b[22m\u001b[39m [==>                                      ]  3.0 %\r",
      "    \u001b[36m\u001b[1mFetching:\u001b[22m\u001b[39m [==>                                      ]  3.2 %\r",
      "    \u001b[36m\u001b[1mFetching:\u001b[22m\u001b[39m [==>                                      ]  3.3 %\r",
      "    \u001b[36m\u001b[1mFetching:\u001b[22m\u001b[39m [==>                                      ]  3.5 %\r",
      "    \u001b[36m\u001b[1mFetching:\u001b[22m\u001b[39m [==>                                      ]  3.6 %\r",
      "    \u001b[36m\u001b[1mFetching:\u001b[22m\u001b[39m [==>                                      ]  3.7 %\r",
      "    \u001b[36m\u001b[1mFetching:\u001b[22m\u001b[39m [==>                                      ]  3.9 %\r",
      "    \u001b[36m\u001b[1mFetching:\u001b[22m\u001b[39m [==>                                      ]  4.0 %\r",
      "    \u001b[36m\u001b[1mFetching:\u001b[22m\u001b[39m [==>                                      ]  4.2 %\r",
      "    \u001b[36m\u001b[1mFetching:\u001b[22m\u001b[39m [==>                                      ]  4.3 %\r",
      "    \u001b[36m\u001b[1mFetching:\u001b[22m\u001b[39m [==>                                      ]  4.4 %\r",
      "    \u001b[36m\u001b[1mFetching:\u001b[22m\u001b[39m [==>                                      ]  4.6 %\r",
      "    \u001b[36m\u001b[1mFetching:\u001b[22m\u001b[39m [==>                                      ]  4.7 %\r",
      "    \u001b[36m\u001b[1mFetching:\u001b[22m\u001b[39m [==>                                      ]  4.9 %\r",
      "    \u001b[36m\u001b[1mFetching:\u001b[22m\u001b[39m [==>                                      ]  5.0 %\r",
      "    \u001b[36m\u001b[1mFetching:\u001b[22m\u001b[39m [===>                                     ]  5.1 %\r",
      "    \u001b[36m\u001b[1mFetching:\u001b[22m\u001b[39m [===>                                     ]  5.3 %\r",
      "    \u001b[36m\u001b[1mFetching:\u001b[22m\u001b[39m [===>                                     ]  5.4 %\r",
      "    \u001b[36m\u001b[1mFetching:\u001b[22m\u001b[39m [===>                                     ]  5.5 %\r",
      "    \u001b[36m\u001b[1mFetching:\u001b[22m\u001b[39m [===>                                     ]  5.7 %\r",
      "    \u001b[36m\u001b[1mFetching:\u001b[22m\u001b[39m [===>                                     ]  5.8 %\r",
      "    \u001b[36m\u001b[1mFetching:\u001b[22m\u001b[39m [===>                                     ]  6.0 %\r",
      "    \u001b[36m\u001b[1mFetching:\u001b[22m\u001b[39m [===>                                     ]  6.1 %\r",
      "    \u001b[36m\u001b[1mFetching:\u001b[22m\u001b[39m [===>                                     ]  6.2 %\r",
      "    \u001b[36m\u001b[1mFetching:\u001b[22m\u001b[39m [===>                                     ]  6.4 %\r",
      "    \u001b[36m\u001b[1mFetching:\u001b[22m\u001b[39m [===>                                     ]  6.5 %\r",
      "    \u001b[36m\u001b[1mFetching:\u001b[22m\u001b[39m [===>                                     ]  6.7 %\r",
      "    \u001b[36m\u001b[1mFetching:\u001b[22m\u001b[39m [===>                                     ]  6.8 %\r",
      "    \u001b[36m\u001b[1mFetching:\u001b[22m\u001b[39m [===>                                     ]  6.9 %\r",
      "    \u001b[36m\u001b[1mFetching:\u001b[22m\u001b[39m [===>                                     ]  7.1 %\r",
      "    \u001b[36m\u001b[1mFetching:\u001b[22m\u001b[39m [===>                                     ]  7.2 %\r",
      "    \u001b[36m\u001b[1mFetching:\u001b[22m\u001b[39m [===>                                     ]  7.3 %\r",
      "    \u001b[36m\u001b[1mFetching:\u001b[22m\u001b[39m [===>                                     ]  7.5 %\r",
      "    \u001b[36m\u001b[1mFetching:\u001b[22m\u001b[39m [====>                                    ]  7.6 %\r",
      "    \u001b[36m\u001b[1mFetching:\u001b[22m\u001b[39m [====>                                    ]  7.8 %\r",
      "    \u001b[36m\u001b[1mFetching:\u001b[22m\u001b[39m [====>                                    ]  7.9 %\r",
      "    \u001b[36m\u001b[1mFetching:\u001b[22m\u001b[39m [====>                                    ]  8.0 %\r",
      "    \u001b[36m\u001b[1mFetching:\u001b[22m\u001b[39m [====>                                    ]  8.2 %\r",
      "    \u001b[36m\u001b[1mFetching:\u001b[22m\u001b[39m [====>                                    ]  8.3 %\r",
      "    \u001b[36m\u001b[1mFetching:\u001b[22m\u001b[39m [====>                                    ]  8.5 %\r",
      "    \u001b[36m\u001b[1mFetching:\u001b[22m\u001b[39m [====>                                    ]  8.6 %\r",
      "    \u001b[36m\u001b[1mFetching:\u001b[22m\u001b[39m [====>                                    ]  8.7 %\r",
      "    \u001b[36m\u001b[1mFetching:\u001b[22m\u001b[39m [====>                                    ]  8.9 %\r",
      "    \u001b[36m\u001b[1mFetching:\u001b[22m\u001b[39m [====>                                    ]  9.0 %\r",
      "    \u001b[36m\u001b[1mFetching:\u001b[22m\u001b[39m [====>                                    ]  9.1 %\r",
      "    \u001b[36m\u001b[1mFetching:\u001b[22m\u001b[39m [====>                                    ]  9.3 %\r",
      "    \u001b[36m\u001b[1mFetching:\u001b[22m\u001b[39m [====>                                    ]  9.4 %\r",
      "    \u001b[36m\u001b[1mFetching:\u001b[22m\u001b[39m [====>                                    ]  9.6 %\r",
      "    \u001b[36m\u001b[1mFetching:\u001b[22m\u001b[39m [====>                                    ]  9.7 %\r",
      "    \u001b[36m\u001b[1mFetching:\u001b[22m\u001b[39m [====>                                    ]  9.8 %\r",
      "    \u001b[36m\u001b[1mFetching:\u001b[22m\u001b[39m [====>                                    ]  10.0 %\r",
      "    \u001b[36m\u001b[1mFetching:\u001b[22m\u001b[39m [=====>                                   ]  10.1 %\r",
      "    \u001b[36m\u001b[1mFetching:\u001b[22m\u001b[39m [=====>                                   ]  10.3 %\r",
      "    \u001b[36m\u001b[1mFetching:\u001b[22m\u001b[39m [=====>                                   ]  10.4 %\r",
      "    \u001b[36m\u001b[1mFetching:\u001b[22m\u001b[39m [=====>                                   ]  10.5 %\r",
      "    \u001b[36m\u001b[1mFetching:\u001b[22m\u001b[39m [=====>                                   ]  10.7 %\r",
      "    \u001b[36m\u001b[1mFetching:\u001b[22m\u001b[39m [=====>                                   ]  10.8 %\r",
      "    \u001b[36m\u001b[1mFetching:\u001b[22m\u001b[39m [=====>                                   ]  10.9 %\r",
      "    \u001b[36m\u001b[1mFetching:\u001b[22m\u001b[39m [=====>                                   ]  11.1 %\r",
      "    \u001b[36m\u001b[1mFetching:\u001b[22m\u001b[39m [=====>                                   ]  11.2 %\r",
      "    \u001b[36m\u001b[1mFetching:\u001b[22m\u001b[39m [=====>                                   ]  11.4 %\r",
      "    \u001b[36m\u001b[1mFetching:\u001b[22m\u001b[39m [=====>                                   ]  11.5 %\r",
      "    \u001b[36m\u001b[1mFetching:\u001b[22m\u001b[39m [=====>                                   ]  11.6 %\r",
      "    \u001b[36m\u001b[1mFetching:\u001b[22m\u001b[39m [=====>                                   ]  11.8 %\r",
      "    \u001b[36m\u001b[1mFetching:\u001b[22m\u001b[39m [=====>                                   ]  11.9 %\r",
      "    \u001b[36m\u001b[1mFetching:\u001b[22m\u001b[39m [=====>                                   ]  12.1 %\r",
      "    \u001b[36m\u001b[1mFetching:\u001b[22m\u001b[39m [=====>                                   ]  12.2 %\r",
      "    \u001b[36m\u001b[1mFetching:\u001b[22m\u001b[39m [=====>                                   ]  12.3 %\r",
      "    \u001b[36m\u001b[1mFetching:\u001b[22m\u001b[39m [=====>                                   ]  12.5 %\r",
      "    \u001b[36m\u001b[1mFetching:\u001b[22m\u001b[39m [======>                                  ]  12.6 %\r",
      "    \u001b[36m\u001b[1mFetching:\u001b[22m\u001b[39m [======>                                  ]  12.8 %\r",
      "    \u001b[36m\u001b[1mFetching:\u001b[22m\u001b[39m [======>                                  ]  12.9 %\r",
      "    \u001b[36m\u001b[1mFetching:\u001b[22m\u001b[39m [======>                                  ]  13.0 %\r",
      "    \u001b[36m\u001b[1mFetching:\u001b[22m\u001b[39m [======>                                  ]  13.2 %\r",
      "    \u001b[36m\u001b[1mFetching:\u001b[22m\u001b[39m [======>                                  ]  13.3 %\r",
      "    \u001b[36m\u001b[1mFetching:\u001b[22m\u001b[39m [======>                                  ]  13.4 %\r",
      "    \u001b[36m\u001b[1mFetching:\u001b[22m\u001b[39m [======>                                  ]  13.6 %\r",
      "    \u001b[36m\u001b[1mFetching:\u001b[22m\u001b[39m [======>                                  ]  13.7 %\r",
      "    \u001b[36m\u001b[1mFetching:\u001b[22m\u001b[39m [======>                                  ]  13.9 %\r",
      "    \u001b[36m\u001b[1mFetching:\u001b[22m\u001b[39m [======>                                  ]  14.0 %\r",
      "    \u001b[36m\u001b[1mFetching:\u001b[22m\u001b[39m [======>                                  ]  14.1 %\r",
      "    \u001b[36m\u001b[1mFetching:\u001b[22m\u001b[39m [======>                                  ]  14.3 %\r",
      "    \u001b[36m\u001b[1mFetching:\u001b[22m\u001b[39m [======>                                  ]  14.4 %\r",
      "    \u001b[36m\u001b[1mFetching:\u001b[22m\u001b[39m [======>                                  ]  14.6 %\r",
      "    \u001b[36m\u001b[1mFetching:\u001b[22m\u001b[39m [======>                                  ]  14.7 %\r",
      "    \u001b[36m\u001b[1mFetching:\u001b[22m\u001b[39m [======>                                  ]  14.8 %\r",
      "    \u001b[36m\u001b[1mFetching:\u001b[22m\u001b[39m [======>                                  ]  15.0 %\r",
      "    \u001b[36m\u001b[1mFetching:\u001b[22m\u001b[39m [=======>                                 ]  15.1 %\r",
      "    \u001b[36m\u001b[1mFetching:\u001b[22m\u001b[39m [=======>                                 ]  15.2 %\r",
      "    \u001b[36m\u001b[1mFetching:\u001b[22m\u001b[39m [=======>                                 ]  15.4 %\r",
      "    \u001b[36m\u001b[1mFetching:\u001b[22m\u001b[39m [=======>                                 ]  15.5 %\r",
      "    \u001b[36m\u001b[1mFetching:\u001b[22m\u001b[39m [=======>                                 ]  15.7 %\r",
      "    \u001b[36m\u001b[1mFetching:\u001b[22m\u001b[39m [=======>                                 ]  15.8 %\r",
      "    \u001b[36m\u001b[1mFetching:\u001b[22m\u001b[39m [=======>                                 ]  15.9 %\r",
      "    \u001b[36m\u001b[1mFetching:\u001b[22m\u001b[39m [=======>                                 ]  16.1 %\r",
      "    \u001b[36m\u001b[1mFetching:\u001b[22m\u001b[39m [=======>                                 ]  16.2 %\r",
      "    \u001b[36m\u001b[1mFetching:\u001b[22m\u001b[39m [=======>                                 ]  16.4 %\r",
      "    \u001b[36m\u001b[1mFetching:\u001b[22m\u001b[39m [=======>                                 ]  16.5 %\r",
      "    \u001b[36m\u001b[1mFetching:\u001b[22m\u001b[39m [=======>                                 ]  16.6 %\r",
      "    \u001b[36m\u001b[1mFetching:\u001b[22m\u001b[39m ["
     ]
    },
    {
     "name": "stdout",
     "output_type": "stream",
     "text": [
      "\u001b[2K\u001b[?25h\u001b[?25l\u001b[2Kg:\u001b[22m\u001b[39m [========================================>]  99.9 %>                          ]  33.8 %>               ]  61.1 %================================>        ]  77.9 %94.5 %"
     ]
    },
    {
     "name": "stderr",
     "output_type": "stream",
     "text": [
      "\u001b[32m\u001b[1m   Updating\u001b[22m\u001b[39m git-repo `https://github.com/OpenMendel/VCFTools.jl`\n"
     ]
    },
    {
     "name": "stdout",
     "output_type": "stream",
     "text": [
      "\u001b[?25h"
     ]
    },
    {
     "name": "stderr",
     "output_type": "stream",
     "text": [
      "\u001b[32m\u001b[1m  Resolving\u001b[22m\u001b[39m package versions...\n",
      "\u001b[32m\u001b[1m  Installed\u001b[22m\u001b[39m PDMats ─────────── v0.9.12\n",
      "\u001b[32m\u001b[1m  Installed\u001b[22m\u001b[39m Roots ──────────── v0.8.4\n",
      "\u001b[32m\u001b[1m  Installed\u001b[22m\u001b[39m ProgressMeter ──── v1.5.0\n",
      "\u001b[32m\u001b[1m  Installed\u001b[22m\u001b[39m SpecialFunctions ─ v0.9.0\n",
      "\u001b[32m\u001b[1m  Installed\u001b[22m\u001b[39m FillArrays ─────── v0.8.14\n",
      "\u001b[32m\u001b[1m  Installed\u001b[22m\u001b[39m Arpack ─────────── v0.3.2\n",
      "\u001b[32m\u001b[1m  Installed\u001b[22m\u001b[39m StatsBase ──────── v0.32.2\n",
      "\u001b[32m\u001b[1m  Installed\u001b[22m\u001b[39m Distributions ──── v0.21.12\n",
      "\u001b[32m\u001b[1m  Installed\u001b[22m\u001b[39m HypothesisTests ── v0.8.0\n",
      "\u001b[32m\u001b[1mUpdating\u001b[22m\u001b[39m `/hps/research1/birney/users/ian/mikk_paper/mikk_genome/Project.toml`\n",
      " \u001b[90m [a620830f] \u001b[39m\u001b[92m+ VCFTools v0.2.0 `https://github.com/OpenMendel/VCFTools.jl#master`\u001b[39m\n",
      "\u001b[32m\u001b[1mUpdating\u001b[22m\u001b[39m `/hps/research1/birney/users/ian/mikk_paper/mikk_genome/Manifest.toml`\n",
      " \u001b[90m [7d9fca2a] \u001b[39m\u001b[92m+ Arpack v0.3.2\u001b[39m\n",
      " \u001b[90m [31c24e10] \u001b[39m\u001b[92m+ Distributions v0.21.12\u001b[39m\n",
      " \u001b[90m [1a297f60] \u001b[39m\u001b[92m+ FillArrays v0.8.14\u001b[39m\n",
      " \u001b[90m [09f84164] \u001b[39m\u001b[92m+ HypothesisTests v0.8.0\u001b[39m\n",
      " \u001b[90m [90014a1f] \u001b[39m\u001b[92m+ PDMats v0.9.12\u001b[39m\n",
      " \u001b[90m [92933f4c] \u001b[39m\u001b[92m+ ProgressMeter v1.5.0\u001b[39m\n",
      " \u001b[90m [1fd47b50] \u001b[39m\u001b[92m+ QuadGK v2.4.1\u001b[39m\n",
      " \u001b[90m [79098fc4] \u001b[39m\u001b[92m+ Rmath v0.6.1\u001b[39m\n",
      " \u001b[90m [f50d1b31] \u001b[39m\u001b[92m+ Rmath_jll v0.2.2+1\u001b[39m\n",
      " \u001b[90m [f2b01f46] \u001b[39m\u001b[92m+ Roots v0.8.4\u001b[39m\n",
      " \u001b[90m [276daf66] \u001b[39m\u001b[95m↓ SpecialFunctions v0.10.3 ⇒ v0.9.0\u001b[39m\n",
      " \u001b[90m [2913bbd2] \u001b[39m\u001b[95m↓ StatsBase v0.33.3 ⇒ v0.32.2\u001b[39m\n",
      " \u001b[90m [4c63d2b9] \u001b[39m\u001b[92m+ StatsFuns v0.9.6\u001b[39m\n",
      " \u001b[90m [a620830f] \u001b[39m\u001b[92m+ VCFTools v0.2.0 `https://github.com/OpenMendel/VCFTools.jl#master`\u001b[39m\n",
      " \u001b[90m [4607b0f0] \u001b[39m\u001b[92m+ SuiteSparse\u001b[39m\n",
      "\u001b[32m\u001b[1m   Building\u001b[22m\u001b[39m Arpack → `~/.julia/packages/Arpack/zCmTA/deps/build.log`\n"
     ]
    }
   ],
   "source": [
    "using Pkg; Pkg.add(url = \"https://github.com/OpenMendel/VCFTools.jl\")"
   ]
  },
  {
   "cell_type": "code",
   "execution_count": 143,
   "metadata": {},
   "outputs": [
    {
     "name": "stderr",
     "output_type": "stream",
     "text": [
      "┌ Info: Precompiling VCFTools [a620830f-fdd7-5ebc-8d26-3621ab35fbfe]\n",
      "└ @ Base loading.jl:1278\n"
     ]
    }
   ],
   "source": [
    "using Glob, VCFTools, DataFrames"
   ]
  },
  {
   "cell_type": "markdown",
   "metadata": {},
   "source": [
    "## Set project and repo directories"
   ]
  },
  {
   "cell_type": "code",
   "execution_count": 2,
   "metadata": {},
   "outputs": [
    {
     "data": {
      "text/plain": [
       "\"/hps/research1/birney/users/ian/mikk_paper/mikk_genome\""
      ]
     },
     "execution_count": 2,
     "metadata": {},
     "output_type": "execute_result"
    }
   ],
   "source": [
    "project_dir = \"/hps/research1/birney/users/ian/mikk_paper\"\n",
    "repo_dir = joinpath(project_dir, \"mikk_genome\")"
   ]
  },
  {
   "cell_type": "code",
   "execution_count": null,
   "metadata": {},
   "outputs": [],
   "source": [
    "cmd = \"bsub \\\n",
    "        -M 10000 \n",
    "        \"bcftools \""
   ]
  },
  {
   "cell_type": "code",
   "execution_count": 3,
   "metadata": {
    "scrolled": true
   },
   "outputs": [
    {
     "name": "stdout",
     "output_type": "stream",
     "text": [
      "Job <6422693> is submitted to default queue <research-rh74>.\n"
     ]
    },
    {
     "data": {
      "text/plain": [
       "Process(`\u001b[4mbsub\u001b[24m \u001b[4msleep\u001b[24m \u001b[4m10\u001b[24m`, ProcessExited(0))"
      ]
     },
     "execution_count": 3,
     "metadata": {},
     "output_type": "execute_result"
    }
   ],
   "source": [
    "run(`bsub sleep 10`)"
   ]
  },
  {
   "cell_type": "code",
   "execution_count": 33,
   "metadata": {
    "scrolled": true
   },
   "outputs": [
    {
     "data": {
      "text/plain": [
       "9-element Array{String,1}:\n",
       " \"/hps/research1/birney/users/ian/mikk_paper/sv_analysis/vcfs/sviper/11-1.vcf\"\n",
       " \"/hps/research1/birney/users/ian/mikk_paper/sv_analysis/vcfs/sviper/117-2.vcf\"\n",
       " \"/hps/research1/birney/users/ian/mikk_paper/sv_analysis/vcfs/sviper/131-1.vcf\"\n",
       " \"/hps/research1/birney/users/ian/mikk_paper/sv_analysis/vcfs/sviper/134-1.vcf\"\n",
       " \"/hps/research1/birney/users/ian/mikk_paper/sv_analysis/vcfs/sviper/134-2.vcf\"\n",
       " \"/hps/research1/birney/users/ian/mikk_paper/sv_analysis/vcfs/sviper/69-1.vcf\"\n",
       " \"/hps/research1/birney/users/ian/mikk_paper/sv_analysis/vcfs/sviper/7-1.vcf\"\n",
       " \"/hps/research1/birney/users/ian/mikk_paper/sv_analysis/vcfs/sviper/79-2.vcf\"\n",
       " \"/hps/research1/birney/users/ian/mikk_paper/sv_analysis/vcfs/sviper/80-1.vcf\""
      ]
     },
     "execution_count": 33,
     "metadata": {},
     "output_type": "execute_result"
    }
   ],
   "source": [
    "vcf_files = Glob.glob(\"*.vcf\", joinpath(project_dir, \"sv_analysis\", \"vcfs\", \"sviper\"))"
   ]
  },
  {
   "cell_type": "markdown",
   "metadata": {},
   "source": [
    "# Test"
   ]
  },
  {
   "cell_type": "code",
   "execution_count": 144,
   "metadata": {},
   "outputs": [
    {
     "data": {
      "text/plain": [
       "\"/hps/research1/birney/users/ian/mikk_paper/sv_analysis/vcfs/sviper/11-1.vcf\""
      ]
     },
     "execution_count": 144,
     "metadata": {},
     "output_type": "execute_result"
    }
   ],
   "source": [
    "# Set VCF\n",
    "vcf = vcf_files[1]"
   ]
  },
  {
   "cell_type": "code",
   "execution_count": 151,
   "metadata": {},
   "outputs": [
    {
     "name": "stdout",
     "output_type": "stream",
     "text": [
      "##fileformat=VCFv4.1\n",
      "##FILTER=<ID=PASS,Description=\"All filters passed\">\n",
      "##FILTER=<ID=FAIL0,Description=\"The fasta index has no entry for the given reference name of the variant.\">\n",
      "##FILTER=<ID=FAIL1,Description=\"No long reads in variant region.\">\n",
      "##FILTER=<ID=FAIL2,Description=\"No long reads support the variant.\">\n",
      "##FILTER=<ID=FAIL3,Description=\"The long read regions do not fit.\">\n",
      "##FILTER=<ID=FAIL4,Description=\"Not enough short reads.\">\n",
      "##FILTER=<ID=FAIL5,Description=\"The variant was polished away.\">\n",
      "##FILTER=<ID=FAIL6,Description=\"The variant reference name does not exist in the short read BAM file.\">\n",
      "##FILTER=<ID=FAIL7,Description=\"The variant reference name does not exist in the long read BAM file.\">\n",
      "##source=SURVIVOR\n",
      "##fileDate=20210212\n",
      "##contig=<ID=1,length=37713152>\n",
      "##contig=<ID=10,length=31218526>\n",
      "##contig=<ID=11,length=28210532>\n",
      "##contig=<ID=12,length=30543476>\n",
      "##contig=<ID=13,length=33825776>\n",
      "##contig=<ID=14,length=30598983>\n",
      "##contig=<ID=15,length=30476034>\n",
      "##contig=<ID=16,length=32958677>\n",
      "##contig=<ID=17,length=31792230>\n",
      "##contig=<ID=18,length=30918796>\n",
      "##contig=<ID=19,length=25472880>\n",
      "##contig=<ID=2,length=25379070>\n",
      "##contig=<ID=20,length=25942153>\n",
      "##contig=<ID=21,length=31148813>\n",
      "##contig=<ID=22,length=28976614>\n",
      "##contig=<ID=23,length=24400806>\n",
      "##contig=<ID=24,length=23682337>\n",
      "##contig=<ID=3,length=38248663>\n",
      "##contig=<ID=4,length=32868862>\n",
      "##contig=<ID=5,length=33205099>\n",
      "##contig=<ID=6,length=32246747>\n",
      "##contig=<ID=7,length=34573382>\n",
      "##contig=<ID=8,length=26239357>\n",
      "##contig=<ID=9,length=33399407>\n",
      "##contig=<ID=MT,length=16714>\n",
      "##ALT=<ID=DEL,Description=\"Deletion\">\n",
      "##ALT=<ID=DUP,Description=\"Duplication\">\n",
      "##ALT=<ID=INV,Description=\"Inversion\">\n",
      "##ALT=<ID=BND,Description=\"Translocation\">\n",
      "##ALT=<ID=INS,Description=\"Insertion\">\n",
      "##INFO=<ID=CIEND,Number=2,Type=String,Description=\"PE confidence interval around END\">\n",
      "##INFO=<ID=CIPOS,Number=2,Type=String,Description=\"PE confidence interval around POS\">\n",
      "##INFO=<ID=CHR2,Number=1,Type=String,Description=\"Chromosome for END coordinate in case of a translocation\">\n",
      "##INFO=<ID=END,Number=1,Type=Integer,Description=\"End position of the structural variant\">\n",
      "##INFO=<ID=MAPQ,Number=1,Type=Integer,Description=\"Median mapping quality of paired-ends\">\n",
      "##INFO=<ID=RE,Number=1,Type=Integer,Description=\"read support\">\n",
      "##INFO=<ID=IMPRECISE,Number=0,Type=Flag,Description=\"Imprecise structural variation\">\n",
      "##INFO=<ID=PRECISE,Number=0,Type=Flag,Description=\"Precise structural variation\">\n",
      "##INFO=<ID=SVLEN,Number=1,Type=Integer,Description=\"Length of the SV\">\n",
      "##INFO=<ID=SVMETHOD,Number=1,Type=String,Description=\"Method for generating this merged VCF file.\">\n",
      "##INFO=<ID=SVTYPE,Number=1,Type=String,Description=\"Type of the SV.\">\n",
      "##INFO=<ID=SUPP_VEC,Number=1,Type=String,Description=\"Vector of supporting samples.\">\n",
      "##INFO=<ID=SUPP,Number=1,Type=String,Description=\"Number of samples supporting the variant\">\n",
      "##INFO=<ID=STRANDS,Number=1,Type=String,Description=\"Indicating the direction of the reads with respect to the type and breakpoint.\">\n",
      "##INFO=<ID=SEQ,Number=1,Type=String,Description=\"The alternative sequence.\">\n",
      "##FORMAT=<ID=GT,Number=1,Type=String,Description=\"Genotype\">\n",
      "##FORMAT=<ID=PSV,Number=1,Type=String,Description=\"Previous support vector\">\n",
      "##FORMAT=<ID=LN,Number=1,Type=Integer,Description=\"predicted length\">\n",
      "##FORMAT=<ID=DR,Number=2,Type=Integer,Description=\"# supporting reference,variant reads in that order\">\n",
      "##FORMAT=<ID=ST,Number=1,Type=String,Description=\"Strand of SVs\">\n",
      "##FORMAT=<ID=QV,Number=1,Type=String,Description=\"Quality values: if not defined a . otherwise the reported value.\">\n",
      "##FORMAT=<ID=TY,Number=1,Type=String,Description=\"Types\">\n",
      "##FORMAT=<ID=ID,Number=1,Type=String,Description=\"Variant ID from input.\">\n",
      "##FORMAT=<ID=RAL,Number=1,Type=String,Description=\"Reference allele sequence reported from input.\">\n",
      "##FORMAT=<ID=AAL,Number=1,Type=String,Description=\"Alternative allele sequence reported from input.\">\n",
      "##FORMAT=<ID=CO,Number=1,Type=String,Description=\"Coordinates\">\n",
      "#CHROM\tPOS\tID\tREF\tALT\tQUAL\tFILTER\tINFO\tFORMAT\t11-1\n",
      "1\t6774\t0\tN\tN[14:2961345[\t0\tSKIP\tSUPP=9;SUPP_VEC=111101011101;SVLEN=0;SVTYPE=TRA;SVMETHOD=SURVIVOR1.0.7;CHR2=14;END=2961345;CIPOS=0,0;CIEND=0,0;STRANDS=+-\tGT:PSV:LN:DR:ST:QV:TY:ID:RAL:AAL:CO\t0/0:NA:1:11,2:+-:.:TRA:0:NA:NA:1_6774-14_2961345\n",
      "1\t9516\t1\tN\tN[14:2964594[\t0\tSKIP\tSUPP=11;SUPP_VEC=111111110111;SVLEN=0;SVTYPE=TRA;SVMETHOD=SURVIVOR1.0.7;CHR2=14;END=2964594;CIPOS=0,0;CIEND=0,0;STRANDS=+-\tGT:PSV:LN:DR:ST:QV:TY:ID:RAL:AAL:CO\t0/0:NA:1:7,2:+-:.:TRA:1:NA:NA:1_9516-14_2964594\n",
      "1\t12233\t2\tN\tN[14:2966236[\t0\tSKIP\tSUPP=5;SUPP_VEC=010010110100;SVLEN=0;SVTYPE=TRA;SVMETHOD=SURVIVOR1.0.7;CHR2=14;END=2966236;CIPOS=0,0;CIEND=0,0;STRANDS=+-\tGT:PSV:LN:DR:ST:QV:TY:ID:RAL:AAL:CO\t./.:NaN:0:0,0:--:NaN:NaN:NaN:NAN:NAN:NAN\n",
      "1\t14623\t3\tN\t]17:2155290]N\t0\tSKIP\tSUPP=12;SUPP_VEC=111111111111;SVLEN=0;SVTYPE=TRA;SVMETHOD=SURVIVOR1.0.7;CHR2=17;END=2155290;CIPOS=0,0;CIEND=0,0;STRANDS=-+\tGT:PSV:LN:DR:ST:QV:TY:ID:RAL:AAL:CO\t0/0:NA:1:160,34:-+:.:TRA:3:NA:NA:1_14623-17_2155290\n",
      "1\t15563\t21\tN\tN[20:1322196[\t0\tSKIP\tSUPP=1;SUPP_VEC=000000000010;SVLEN=0;SVTYPE=TRA;SVMETHOD=SURVIVOR1.0.7;CHR2=20;END=1322196;CIPOS=0,0;CIEND=0,0;STRANDS=++\tGT:PSV:LN:DR:ST:QV:TY:ID:RAL:AAL:CO\t./.:NaN:0:0,0:--:NaN:NaN:NaN:NAN:NAN:NAN\n",
      "1\t15562\t20\tN\tN[23:2206884[\t0\tSKIP\tSUPP=1;SUPP_VEC=001000000000;SVLEN=0;SVTYPE=TRA;SVMETHOD=SURVIVOR1.0.7;CHR2=23;END=2206884;CIPOS=0,0;CIEND=0,0;STRANDS=++\tGT:PSV:LN:DR:ST:QV:TY:ID:RAL:AAL:CO\t./.:NaN:0:0,0:--:NaN:NaN:NaN:NAN:NAN:NAN\n",
      "1\t15564\t22\tN\tN[2:5650956[\t0\tSKIP\tSUPP=1;SUPP_VEC=001000000000;SVLEN=0;SVTYPE=TRA;SVMETHOD=SURVIVOR1.0.7;CHR2=2;END=5650956;CIPOS=0,0;CIEND=0,0;STRANDS=++\tGT:PSV:LN:DR:ST:QV:TY:ID:RAL:AAL:CO\t./.:NaN:0:0,0:--:NaN:NaN:NaN:NAN:NAN:NAN\n",
      "1\t15564\t23\tN\tN[15:7550312[\t0\tSKIP\tSUPP=2;SUPP_VEC=000001100000;SVLEN=0;SVTYPE=TRA;SVMETHOD=SURVIVOR1.0.7;CHR2=15;END=7550312;CIPOS=0,0;CIEND=0,0;STRANDS=+-\tGT:PSV:LN:DR:ST:QV:TY:ID:RAL:AAL:CO\t./.:NaN:0:0,0:--:NaN:NaN:NaN:NAN:NAN:NAN\n",
      "1\t15565\t24\tN\tN[7:8614802[\t0\tSKIP\tSUPP=1;SUPP_VEC=000000100000;SVLEN=0;SVTYPE=TRA;SVMETHOD=SURVIVOR1.0.7;CHR2=7;END=8614802;CIPOS=0,0;CIEND=0,0;STRANDS=++\tGT:PSV:LN:DR:ST:QV:TY:ID:RAL:AAL:CO\t./.:NaN:0:0,0:--:NaN:NaN:NaN:NAN:NAN:NAN\n",
      "1\t15565\t25\tN\tN[19:8737069[\t0\tSKIP\tSUPP=1;SUPP_VEC=000000001000;SVLEN=0;SVTYPE=TRA;SVMETHOD=SURVIVOR1.0.7;CHR2=19;END=8737069;CIPOS=0,0;CIEND=0,0;STRANDS=+-\tGT:PSV:LN:DR:ST:QV:TY:ID:RAL:AAL:CO\t./.:NaN:0:0,0:--:NaN:NaN:NaN:NAN:NAN:NAN\n",
      "1\t15553\t8\tN\tN[24:9052328[\t0\tSKIP\tSUPP=1;SUPP_VEC=000000000001;SVLEN=0;SVTYPE=TRA;SVMETHOD=SURVIVOR1.0.7;CHR2=24;END=9052328;CIPOS=0,0;CIEND=0,0;STRANDS=+-\tGT:PSV:LN:DR:ST:QV:TY:ID:RAL:AAL:CO\t./.:NaN:0:0,0:--:NaN:NaN:NaN:NAN:NAN:NAN\n",
      "1\t15565\t26\tN\tN[23:9951404[\t0\tSKIP\tSUPP=1;SUPP_VEC=001000000000;SVLEN=0;SVTYPE=TRA;SVMETHOD=SURVIVOR1.0.7;CHR2=23;END=9951404;CIPOS=0,0;CIEND=0,0;STRANDS=+-\tGT:PSV:LN:DR:ST:QV:TY:ID:RAL:AAL:CO\t./.:NaN:0:0,0:--:NaN:NaN:NaN:NAN:NAN:NAN\n",
      "1\t15553\t9\tN\tN[19:18371274[\t0\tSKIP\tSUPP=1;SUPP_VEC=000000001000;SVLEN=0;SVTYPE=TRA;SVMETHOD=SURVIVOR1.0.7;CHR2=19;END=18371274;CIPOS=0,0;CIEND=0,0;STRANDS=+-\tGT:PSV:LN:DR:ST:QV:TY:ID:RAL:AAL:CO\t./.:NaN:0:0,0:--:NaN:NaN:NaN:NAN:NAN:NAN\n",
      "1\t15565\t27\tN\tN[3:19492377[\t0\tSKIP\tSUPP=1;SUPP_VEC=000010000000;SVLEN=0;SVTYPE=TRA;SVMETHOD=SURVIVOR1.0.7;CHR2=3;END=19492377;CIPOS=0,0;CIEND=0,0;STRANDS=+-\tGT:PSV:LN:DR:ST:QV:TY:ID:RAL:AAL:CO\t./.:NaN:0:0,0:--:NaN:NaN:NaN:NAN:NAN:NAN\n",
      "1\t15555\t13\tN\tN[11:20369783[\t0\tSKIP\tSUPP=1;SUPP_VEC=100000000000;SVLEN=0;SVTYPE=TRA;SVMETHOD=SURVIVOR1.0.7;CHR2=11;END=20369783;CIPOS=0,0;CIEND=0,0;STRANDS=++\tGT:PSV:LN:DR:ST:QV:TY:ID:RAL:AAL:CO\t0/0:NA:1:27,4:++:.:TRA:13:NA:NA:1_15555-11_20369783\n",
      "1\t15565\t28\tN\tN[4:20969613[\t0\tSKIP\tSUPP=1;SUPP_VEC=000000000100;SVLEN=0;SVTYPE=TRA;SVMETHOD=SURVIVOR1.0.7;CHR2=4;END=20969613;CIPOS=0,0;CIEND=0,0;STRANDS=++\tGT:PSV:LN:DR:ST:QV:TY:ID:RAL:AAL:CO\t./.:NaN:0:0,0:--:NaN:NaN:NaN:NAN:NAN:NAN\n",
      "1\t15555\t14\tN\tN[22:24120451[\t0\tSKIP\tSUPP=1;SUPP_VEC=100000000000;SVLEN=0;SVTYPE=TRA;SVMETHOD=SURVIVOR1.0.7;CHR2=22;END=24120451;CIPOS=0,0;CIEND=0,0;STRANDS=++\tGT:PSV:LN:DR:ST:QV:TY:ID:RAL:AAL:CO\t0/0:NA:1:28,5:++:.:TRA:14:NA:NA:1_15555-22_24120451\n",
      "1\t15565\t29\tN\tN[5:24728331[\t0\tSKIP\tSUPP=1;SUPP_VEC=000010000000;SVLEN=0;SVTYPE=TRA;SVMETHOD=SURVIVOR1.0.7;CHR2=5;END=24728331;CIPOS=0,0;CIEND=0,0;STRANDS=+-\tGT:PSV:LN:DR:ST:QV:TY:ID:RAL:AAL:CO\t./.:NaN:0:0,0:--:NaN:NaN:NaN:NAN:NAN:NAN\n",
      "1\t15554\t11\tN\tN[5:24980947[\t0\tSKIP\tSUPP=1;SUPP_VEC=000010000000;SVLEN=0;SVTYPE=TRA;SVMETHOD=SURVIVOR1.0.7;CHR2=5;END=24980947;CIPOS=0,0;CIEND=0,0;STRANDS=++\tGT:PSV:LN:DR:ST:QV:TY:ID:RAL:AAL:CO\t./.:NaN:0:0,0:--:NaN:NaN:NaN:NAN:NAN:NAN\n",
      "1\t15555\t15\tN\tN[9:26206977[\t0\tSKIP\tSUPP=1;SUPP_VEC=001000000000;SVLEN=0;SVTYPE=TRA;SVMETHOD=SURVIVOR1.0.7;CHR2=9;END=26206977;CIPOS=0,0;CIEND=0,0;STRANDS=++\tGT:PSV:LN:DR:ST:QV:TY:ID:RAL:AAL:CO\t./.:NaN:0:0,0:--:NaN:NaN:NaN:NAN:NAN:NAN\n",
      "1\t15558\t18\tN\tN[22:26742061[\t0\tSKIP\tSUPP=1;SUPP_VEC=100000000000;SVLEN=0;SVTYPE=TRA;SVMETHOD=SURVIVOR1.0.7;CHR2=22;END=26742061;CIPOS=0,0;CIEND=0,0;STRANDS=++\tGT:PSV:LN:DR:ST:QV:TY:ID:RAL:AAL:CO\t0/0:NA:1:29,4:++:.:TRA:18:NA:NA:1_15558-22_26742061\n",
      "1\t15358\t4\tN\tN[10:27116796[\t0\tSKIP\tSUPP=2;SUPP_VEC=100000000010;SVLEN=0;SVTYPE=TRA;SVMETHOD=SURVIVOR1.0.7;CHR2=10;END=27116796;CIPOS=0,0;CIEND=0,0;STRANDS=++\tGT:PSV:LN:DR:ST:QV:TY:ID:RAL:AAL:CO\t0/0:NA:1:52,7:++:.:TRA:4:NA:NA:1_15358-10_27116796\n",
      "1\t15560\t19\tN\tN[15:28867954[\t0\tSKIP\tSUPP=2;SUPP_VEC=010000000100;SVLEN=0;SVTYPE=TRA;SVMETHOD=SURVIVOR1.0.7;CHR2=15;END=28867954;CIPOS=0,0;CIEND=0,0;STRANDS=+-\tGT:PSV:LN:DR:ST:QV:TY:ID:RAL:AAL:CO\t./.:NaN:0:0,0:--:NaN:NaN:NaN:NAN:NAN:NAN\n",
      "1\t15554\t12\tN\tN[3:29541650[\t0\tSKIP\tSUPP=1;SUPP_VEC=100000000000;SVLEN=0;SVTYPE=TRA;SVMETHOD=SURVIVOR1.0.7;CHR2=3;END=29541650;CIPOS=0,0;CIEND=0,0;STRANDS=+-\tGT:PSV:LN:DR:ST:QV:TY:ID:RAL:AAL:CO\t0/0:NA:1:33,5:+-:.:TRA:12:NA:NA:1_15554-3_29541650\n",
      "1\t15551\t6\tN\tN[3:29596392[\t0\tSKIP\tSUPP=1;SUPP_VEC=100000000000;SVLEN=0;SVTYPE=TRA;SVMETHOD=SURVIVOR1.0.7;CHR2=3;END=29596392;CIPOS=0,0;CIEND=0,0;STRANDS=++\tGT:PSV:LN:DR:ST:QV:TY:ID:RAL:AAL:CO\t0/0:NA:1:34,4:++:.:TRA:6:NA:NA:1_15551-3_29596392\n",
      "1\t15557\t17\tN\tN[9:29804522[\t0\tSKIP\tSUPP=1;SUPP_VEC=000000001000;SVLEN=0;SVTYPE=TRA;SVMETHOD=SURVIVOR1.0.7;CHR2=9;END=29804522;CIPOS=0,0;CIEND=0,0;STRANDS=+-\tGT:PSV:LN:DR:ST:QV:TY:ID:RAL:AAL:CO\t./.:NaN:0:0,0:--:NaN:NaN:NaN:NAN:NAN:NAN\n",
      "1\t15565\t30\tN\tN[21:31094529[\t0\tSKIP\tSUPP=1;SUPP_VEC=000000000001;SVLEN=0;SVTYPE=TRA;SVMETHOD=SURVIVOR1.0.7;CHR2=21;END=31094529;CIPOS=0,0;CIEND=0,0;STRANDS=+-\tGT:PSV:LN:DR:ST:QV:TY:ID:RAL:AAL:CO\t./.:NaN:0:0,0:--:NaN:NaN:NaN:NAN:NAN:NAN\n"
     ]
    },
    {
     "name": "stdout",
     "output_type": "stream",
     "text": [
      "1\t15565\t31\tN\tN[5:32259249[\t0\tSKIP\tSUPP=1;SUPP_VEC=000000000100;SVLEN=0;SVTYPE=TRA;SVMETHOD=SURVIVOR1.0.7;CHR2=5;END=32259249;CIPOS=0,0;CIEND=0,0;STRANDS=++\tGT:PSV:LN:DR:ST:QV:TY:ID:RAL:AAL:CO\t./.:NaN:0:0,0:--:NaN:NaN:NaN:NAN:NAN:NAN\n",
      "1\t15551\t7\tN\tN[9:32469005[\t0\tSKIP\tSUPP=1;SUPP_VEC=100000000000;SVLEN=0;SVTYPE=TRA;SVMETHOD=SURVIVOR1.0.7;CHR2=9;END=32469005;CIPOS=0,0;CIEND=0,0;STRANDS=+-\tGT:PSV:LN:DR:ST:QV:TY:ID:RAL:AAL:CO\t0/0:NA:1:19,5:+-:.:TRA:7:NA:NA:1_15551-9_32469005\n",
      "1\t49952\t32\tN\t<INS>\t98.3333\tFAIL5\tSUPP=12;SUPP_VEC=111111111111;SVLEN=73;SVTYPE=INS;SVMETHOD=SURVIVOR1.0.7;CHR2=1;END=49952;CIPOS=0,0;CIEND=0,0;STRANDS=+-\tGT:PSV:LN:DR:ST:QV:TY:ID:RAL:AAL:CO\t0/0:NA:73:24,8:+-:.:INS:32:NA:NA:1_49952-1_49952\n",
      "1\t50931\t33\tN\t<INS>\t95\tPASS\tSUPP=11;SUPP_VEC=111111101111;SVLEN=315;SVTYPE=INS;SVMETHOD=SURVIVOR1.0.7;CHR2=1;END=50931;CIPOS=0,0;CIEND=50931,0;STRANDS=+-;SEQ=TATCTATCTATCTATCTATCTATCTATCTATCTATCTATCTATCTATCTATCTATCTATCTATCTATCTATCTATCTATCTATCTATCTATCTATCTATCTATCTATCTATCTATCTATCTATCTATCTATCTATCTATCTATCTATCTATCTATCTATCTATCTATCTATCTATCTATCTATCTATCTATCTATCTATCTATCTATCTATCTATCTATCTATCTATCTATCTATCTATCTATCTATCTATCTATCTATCTATCTATCTATCTATCTATCTATCTATCTATCTATCTATCTATCTATCTATCTGG\tGT:PSV:LN:DR:ST:QV:TY:ID:RAL:AAL:CO\t0/1:NA:343:18,23:+-:.:INS:33:NA:NA:1_50812-1_50812\n"
     ]
    }
   ],
   "source": [
    "# Print header\n",
    "fh = openvcf(vcf, \"r\")\n",
    "for l in 1:100\n",
    "    println(readline(fh))\n",
    "end\n",
    "close(fh)"
   ]
  },
  {
   "cell_type": "code",
   "execution_count": 145,
   "metadata": {},
   "outputs": [
    {
     "data": {
      "text/plain": [
       "189383"
      ]
     },
     "execution_count": 145,
     "metadata": {},
     "output_type": "execute_result"
    }
   ],
   "source": [
    "# Number of records\n",
    "records = nrecords(vcf)"
   ]
  },
  {
   "cell_type": "code",
   "execution_count": 146,
   "metadata": {},
   "outputs": [
    {
     "data": {
      "text/plain": [
       "1"
      ]
     },
     "execution_count": 146,
     "metadata": {},
     "output_type": "execute_result"
    }
   ],
   "source": [
    "# Number of samples\n",
    "samples = nsamples(vcf)"
   ]
  },
  {
   "cell_type": "code",
   "execution_count": null,
   "metadata": {},
   "outputs": [],
   "source": []
  }
 ],
 "metadata": {
  "kernelspec": {
   "display_name": "Julia 1.5.3",
   "language": "julia",
   "name": "julia-1.5"
  },
  "language_info": {
   "file_extension": ".jl",
   "mimetype": "application/julia",
   "name": "julia",
   "version": "1.5.3"
  }
 },
 "nbformat": 4,
 "nbformat_minor": 4
}
