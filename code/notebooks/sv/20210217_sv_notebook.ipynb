{
 "cells": [
  {
   "cell_type": "markdown",
   "metadata": {},
   "source": [
    "# Setup"
   ]
  },
  {
   "cell_type": "code",
   "execution_count": 1,
   "metadata": {},
   "outputs": [
    {
     "data": {
      "text/plain": [
       "\"/Users/brettell/Documents/Repositories/mikk_genome\""
      ]
     },
     "execution_count": 1,
     "metadata": {},
     "output_type": "execute_result"
    }
   ],
   "source": [
    "project_dir = \"/Users/brettell/Documents/Repositories/mikk_genome\""
   ]
  },
  {
   "cell_type": "code",
   "execution_count": 2,
   "metadata": {},
   "outputs": [
    {
     "name": "stderr",
     "output_type": "stream",
     "text": [
      "\u001b[32m\u001b[1m Activating\u001b[22m\u001b[39m environment at `~/Documents/Repositories/mikk_genome/Project.toml`\n"
     ]
    }
   ],
   "source": [
    "using Pkg; Pkg.activate(project_dir); Pkg.instantiate()"
   ]
  },
  {
   "cell_type": "code",
   "execution_count": 3,
   "metadata": {
    "scrolled": true
   },
   "outputs": [
    {
     "name": "stderr",
     "output_type": "stream",
     "text": [
      "\u001b[32m\u001b[1m   Updating\u001b[22m\u001b[39m registry at `~/.julia/registries/General`\n"
     ]
    },
    {
     "name": "stdout",
     "output_type": "stream",
     "text": [
      "\u001b[?25l    "
     ]
    },
    {
     "name": "stderr",
     "output_type": "stream",
     "text": [
      "\u001b[32m\u001b[1m   Updating\u001b[22m\u001b[39m git-repo `https://github.com/JuliaRegistries/General.git`\n"
     ]
    },
    {
     "name": "stdout",
     "output_type": "stream",
     "text": [
      "\u001b[36m\u001b[1mFetching:\u001b[22m\u001b[39m [>                                        ]  0.0 %\r",
      "    \u001b[36m\u001b[1mFetching:\u001b[22m\u001b[39m [===>                                     ]  6.3 %\r",
      "    \u001b[36m\u001b[1mFetching:\u001b[22m\u001b[39m [=====>                                   ]  12.5 %\r",
      "    \u001b[36m\u001b[1mFetching:\u001b[22m\u001b[39m [========>                                ]  18.8 %\r",
      "    \u001b[36m\u001b[1mFetching:\u001b[22m\u001b[39m [==========>                              ]  25.0 %\r",
      "    \u001b[36m\u001b[1mFetching:\u001b[22m\u001b[39m [=============>                           ]  31.3 %\r",
      "    \u001b[36m\u001b[1mFetching:\u001b[22m\u001b[39m [===============>                         ]  37.5 %\r",
      "    \u001b[36m\u001b[1mFetching:\u001b[22m\u001b[39m [==================>                      ]  43.8 %\r",
      "    \u001b[36m\u001b[1mFetching:\u001b[22m\u001b[39m [====================>                    ]  50.0 %\r",
      "    \u001b[36m\u001b[1mFetching:\u001b[22m\u001b[39m [=======================>                 ]  56.3 %\r",
      "    \u001b[36m\u001b[1mFetching:\u001b[22m\u001b[39m [=========================>               ]  62.5 %\r",
      "    \u001b[36m\u001b[1mFetching:\u001b[22m\u001b[39m [============================>            ]  68.8 %\r",
      "    \u001b[36m\u001b[1mFetching:\u001b[22m\u001b[39m [==============================>          ]  75.0 %\r",
      "    \u001b[36m\u001b[1mFetching:\u001b[22m\u001b[39m [=================================>       ]  81.3 %\r",
      "    \u001b[36m\u001b[1mFetching:\u001b[22m\u001b[39m [===================================>     ]  87.5 %\r",
      "    \u001b[36m\u001b[1mFetching:\u001b[22m\u001b[39m [======================================>  ]  93.8 %\r",
      "    \u001b[36m\u001b[1mFetching:\u001b[22m\u001b[39m [========================================>]  100.0 %\r",
      "\u001b[2K\u001b[?25h"
     ]
    },
    {
     "name": "stderr",
     "output_type": "stream",
     "text": [
      "\u001b[32m\u001b[1m  Resolving\u001b[22m\u001b[39m package versions...\n",
      "\u001b[32m\u001b[1mNo Changes\u001b[22m\u001b[39m to `~/Documents/Repositories/mikk_genome/Project.toml`\n",
      "\u001b[32m\u001b[1mNo Changes\u001b[22m\u001b[39m to `~/Documents/Repositories/mikk_genome/Manifest.toml`\n"
     ]
    }
   ],
   "source": [
    "using Pkg; Pkg.add(\"Queryverse\")"
   ]
  },
  {
   "cell_type": "code",
   "execution_count": 4,
   "metadata": {
    "scrolled": true
   },
   "outputs": [
    {
     "name": "stderr",
     "output_type": "stream",
     "text": [
      "┌ Info: Precompiling DataFrames [a93c6f00-e57d-5684-b7b6-d8193f3e46c0]\n",
      "└ @ Base loading.jl:1278\n",
      "┌ Info: Precompiling StatsPlots [f3b207a7-027a-5e70-b257-86293d7955fd]\n",
      "└ @ Base loading.jl:1278\n",
      "┌ Info: Precompiling Interact [c601a237-2ae4-5e1e-952c-7a85b0c7eef1]\n",
      "└ @ Base loading.jl:1278\n"
     ]
    },
    {
     "data": {
      "text/html": [
       "<script>\n",
       "// Immediately-invoked-function-expression to avoid global variables.\n",
       "(function() {\n",
       "    var warning_div = document.getElementById(\"webio-warning-1688194269211234287\");\n",
       "    var hide = function () {\n",
       "        var script = document.getElementById(\"webio-setup-946769762191050744\");\n",
       "        var parent = script && script.parentElement;\n",
       "        var grandparent = parent && parent.parentElement;\n",
       "        if (grandparent) {\n",
       "            grandparent.style.display = \"none\";\n",
       "        }\n",
       "        warning_div.style.display = \"none\";\n",
       "    };\n",
       "    if (typeof Jupyter !== \"undefined\") {\n",
       "        console.log(\"WebIO detected Jupyter notebook environment.\");\n",
       "        // Jupyter notebook.\n",
       "        var extensions = (\n",
       "            Jupyter\n",
       "            && Jupyter.notebook.config.data\n",
       "            && Jupyter.notebook.config.data.load_extensions\n",
       "        );\n",
       "        if (extensions && extensions[\"webio-jupyter-notebook\"]) {\n",
       "            // Extension already loaded.\n",
       "            console.log(\"Jupyter WebIO nbextension detected; not loading ad-hoc.\");\n",
       "            hide();\n",
       "            return;\n",
       "        }\n",
       "    } else if (window.location.pathname.includes(\"/lab\")) {\n",
       "        // Guessing JupyterLa\n",
       "        console.log(\"Jupyter Lab detected; make sure the @webio/jupyter-lab-provider labextension is installed.\");\n",
       "        hide();\n",
       "        return;\n",
       "    }\n",
       "})();\n",
       "\n",
       "</script>\n",
       "<p\n",
       "    id=\"webio-warning-1688194269211234287\"\n",
       "    class=\"output_text output_stderr\"\n",
       "    style=\"padding: 1em; font-weight: bold;\"\n",
       ">\n",
       "    Unable to load WebIO. Please make sure WebIO works for your Jupyter client.\n",
       "    For troubleshooting, please see <a href=\"https://juliagizmos.github.io/WebIO.jl/latest/providers/ijulia/\">\n",
       "    the WebIO/IJulia documentation</a>.\n",
       "    <!-- TODO: link to installation docs. -->\n",
       "</p>\n"
      ],
      "text/plain": [
       "HTML{String}(\"<script>\\n// Immediately-invoked-function-expression to avoid global variables.\\n(function() {\\n    var warning_div = document.getElementById(\\\"webio-warning-1688194269211234287\\\");\\n    var hide = function () {\\n        var script = document.getElementById(\\\"webio-setup-946769762191050744\\\");\\n        var parent = script && script.parentElement;\\n        var grandparent = parent && parent.parentElement;\\n        if (grandparent) {\\n            grandparent.style.display = \\\"none\\\";\\n        }\\n        warning_div.style.display = \\\"none\\\";\\n    };\\n    if (typeof Jupyter !== \\\"undefined\\\") {\\n        console.log(\\\"WebIO detected Jupyter notebook environment.\\\");\\n        // Jupyter notebook.\\n        var extensions = (\\n            Jupyter\\n            && Jupyter.notebook.config.data\\n            && Jupyter.notebook.config.data.load_extensions\\n        );\\n        if (extensions && extensions[\\\"webio-jupyter-notebook\\\"]) {\\n            // Extension already loaded.\\n            console.log(\\\"Jupyter WebIO nbextension detected; not loading ad-hoc.\\\");\\n            hide();\\n            return;\\n        }\\n    } else if (window.location.pathname.includes(\\\"/lab\\\")) {\\n        // Guessing JupyterLa\\n        console.log(\\\"Jupyter Lab detected; make sure the @webio/jupyter-lab-provider labextension is installed.\\\");\\n        hide();\\n        return;\\n    }\\n})();\\n\\n</script>\\n<p\\n    id=\\\"webio-warning-1688194269211234287\\\"\\n    class=\\\"output_text output_stderr\\\"\\n    style=\\\"padding: 1em; font-weight: bold;\\\"\\n>\\n    Unable to load WebIO. Please make sure WebIO works for your Jupyter client.\\n    For troubleshooting, please see <a href=\\\"https://juliagizmos.github.io/WebIO.jl/latest/providers/ijulia/\\\">\\n    the WebIO/IJulia documentation</a>.\\n    <!-- TODO: link to installation docs. -->\\n</p>\\n\")"
      ]
     },
     "metadata": {},
     "output_type": "display_data"
    },
    {
     "name": "stderr",
     "output_type": "stream",
     "text": [
      "┌ Info: Precompiling CSV [336ed68f-0bac-5ca0-87d4-7b16caf5d00b]\n",
      "└ @ Base loading.jl:1278\n",
      "┌ Info: Precompiling Gadfly [c91e804a-d5a3-530f-b6f0-dfbca275c004]\n",
      "└ @ Base loading.jl:1278\n",
      "┌ Info: Precompiling Queryverse [612083be-0b0f-5412-89c1-4e7c75506a58]\n",
      "└ @ Base loading.jl:1278\n"
     ]
    }
   ],
   "source": [
    "using Glob, DataFrames, StatsPlots, Interact, CSV, Gadfly, Queryverse"
   ]
  },
  {
   "cell_type": "markdown",
   "metadata": {},
   "source": [
    "## Get files"
   ]
  },
  {
   "cell_type": "code",
   "execution_count": 5,
   "metadata": {},
   "outputs": [
    {
     "data": {
      "text/plain": [
       "\"/Users/brettell/Documents/Repositories/mikk_genome/data/sv_analysis/20210217_sviper_filter_pass\""
      ]
     },
     "execution_count": 5,
     "metadata": {},
     "output_type": "execute_result"
    }
   ],
   "source": [
    "data_dir = joinpath(project_dir, \"data/sv_analysis/20210217_sviper_filter_pass\")"
   ]
  },
  {
   "cell_type": "code",
   "execution_count": 6,
   "metadata": {
    "scrolled": true
   },
   "outputs": [
    {
     "data": {
      "text/plain": [
       "9-element Array{String,1}:\n",
       " \"/Users/brettell/Documents/Repositories/mikk_genome/data/sv_analysis/20210217_sviper_filter_pass/11-1.csv\"\n",
       " \"/Users/brettell/Documents/Repositories/mikk_genome/data/sv_analysis/20210217_sviper_filter_pass/117-2.csv\"\n",
       " \"/Users/brettell/Documents/Repositories/mikk_genome/data/sv_analysis/20210217_sviper_filter_pass/131-1.csv\"\n",
       " \"/Users/brettell/Documents/Repositories/mikk_genome/data/sv_analysis/20210217_sviper_filter_pass/134-1.csv\"\n",
       " \"/Users/brettell/Documents/Repositories/mikk_genome/data/sv_analysis/20210217_sviper_filter_pass/134-2.csv\"\n",
       " \"/Users/brettell/Documents/Repositories/mikk_genome/data/sv_analysis/20210217_sviper_filter_pass/69-1.csv\"\n",
       " \"/Users/brettell/Documents/Repositories/mikk_genome/data/sv_analysis/20210217_sviper_filter_pass/7-1.csv\"\n",
       " \"/Users/brettell/Documents/Repositories/mikk_genome/data/sv_analysis/20210217_sviper_filter_pass/79-2.csv\"\n",
       " \"/Users/brettell/Documents/Repositories/mikk_genome/data/sv_analysis/20210217_sviper_filter_pass/80-1.csv\""
      ]
     },
     "execution_count": 6,
     "metadata": {},
     "output_type": "execute_result"
    }
   ],
   "source": [
    "in_files = Glob.glob(\"*.csv\", data_dir)"
   ]
  },
  {
   "cell_type": "code",
   "execution_count": 7,
   "metadata": {
    "scrolled": true
   },
   "outputs": [
    {
     "data": {
      "text/html": [
       "<table class=\"data-frame\"><thead><tr><th></th><th>CHROM</th><th>POS</th><th>ALT</th><th>SVLEN</th><th>SVTYPE</th><th>CHR2</th><th>END</th><th>GT</th><th>LN</th></tr><tr><th></th><th>String</th><th>Int64</th><th>String</th><th>Int64</th><th>String</th><th>String</th><th>Int64</th><th>String</th><th>Int64</th></tr></thead><tbody><p>755,728 rows × 11 columns (omitted printing of 2 columns)</p><tr><th>1</th><td>1</td><td>6774</td><td>N[14:2961345[</td><td>0</td><td>TRA</td><td>14</td><td>2961345</td><td>0/0</td><td>1</td></tr><tr><th>2</th><td>1</td><td>9516</td><td>N[14:2964594[</td><td>0</td><td>TRA</td><td>14</td><td>2964594</td><td>0/0</td><td>1</td></tr><tr><th>3</th><td>1</td><td>14623</td><td>]17:2155290]N</td><td>0</td><td>TRA</td><td>17</td><td>2155290</td><td>0/0</td><td>1</td></tr><tr><th>4</th><td>1</td><td>15555</td><td>N[11:20369783[</td><td>0</td><td>TRA</td><td>11</td><td>20369783</td><td>0/0</td><td>1</td></tr><tr><th>5</th><td>1</td><td>15555</td><td>N[22:24120451[</td><td>0</td><td>TRA</td><td>22</td><td>24120451</td><td>0/0</td><td>1</td></tr><tr><th>6</th><td>1</td><td>15558</td><td>N[22:26742061[</td><td>0</td><td>TRA</td><td>22</td><td>26742061</td><td>0/0</td><td>1</td></tr><tr><th>7</th><td>1</td><td>15358</td><td>N[10:27116796[</td><td>0</td><td>TRA</td><td>10</td><td>27116796</td><td>0/0</td><td>1</td></tr><tr><th>8</th><td>1</td><td>15554</td><td>N[3:29541650[</td><td>0</td><td>TRA</td><td>3</td><td>29541650</td><td>0/0</td><td>1</td></tr><tr><th>9</th><td>1</td><td>15551</td><td>N[3:29596392[</td><td>0</td><td>TRA</td><td>3</td><td>29596392</td><td>0/0</td><td>1</td></tr><tr><th>10</th><td>1</td><td>15551</td><td>N[9:32469005[</td><td>0</td><td>TRA</td><td>9</td><td>32469005</td><td>0/0</td><td>1</td></tr><tr><th>11</th><td>1</td><td>49952</td><td>&lt;INS&gt;</td><td>73</td><td>INS</td><td>1</td><td>49952</td><td>0/0</td><td>73</td></tr><tr><th>12</th><td>1</td><td>50931</td><td>&lt;INS&gt;</td><td>315</td><td>INS</td><td>1</td><td>50931</td><td>0/1</td><td>343</td></tr><tr><th>13</th><td>1</td><td>57130</td><td>&lt;INS&gt;</td><td>226</td><td>INS</td><td>1</td><td>57130</td><td>0/1</td><td>222</td></tr><tr><th>14</th><td>1</td><td>67640</td><td>&lt;DEL&gt;</td><td>-5870</td><td>DEL</td><td>1</td><td>73510</td><td>0/1</td><td>5871</td></tr><tr><th>15</th><td>1</td><td>67646</td><td>&lt;DEL&gt;</td><td>-7613</td><td>DEL</td><td>1</td><td>75252</td><td>0/0</td><td>7613</td></tr><tr><th>16</th><td>1</td><td>85020</td><td>]2:5287885]N</td><td>0</td><td>TRA</td><td>2</td><td>5287885</td><td>0/0</td><td>1</td></tr><tr><th>17</th><td>1</td><td>89589</td><td>&lt;INS&gt;</td><td>273</td><td>INS</td><td>1</td><td>89589</td><td>0/1</td><td>268</td></tr><tr><th>18</th><td>1</td><td>90177</td><td>&lt;DEL&gt;</td><td>-66</td><td>DEL</td><td>1</td><td>90241</td><td>0/1</td><td>66</td></tr><tr><th>19</th><td>1</td><td>90461</td><td>&lt;INS&gt;</td><td>848</td><td>INS</td><td>1</td><td>90461</td><td>0/1</td><td>883</td></tr><tr><th>20</th><td>1</td><td>89591</td><td>]6:32168495]N</td><td>0</td><td>TRA</td><td>6</td><td>32168495</td><td>0/0</td><td>1</td></tr><tr><th>21</th><td>1</td><td>102745</td><td>&lt;DEL&gt;</td><td>-180</td><td>DEL</td><td>1</td><td>102925</td><td>0/1</td><td>180</td></tr><tr><th>22</th><td>1</td><td>105510</td><td>&lt;INS&gt;</td><td>90</td><td>INS</td><td>1</td><td>105510</td><td>0/1</td><td>90</td></tr><tr><th>23</th><td>1</td><td>112340</td><td>&lt;DEL&gt;</td><td>-178</td><td>DEL</td><td>1</td><td>112518</td><td>0/1</td><td>163</td></tr><tr><th>24</th><td>1</td><td>115284</td><td>&lt;DEL&gt;</td><td>-752</td><td>DEL</td><td>1</td><td>116123</td><td>0/1</td><td>752</td></tr><tr><th>25</th><td>1</td><td>116343</td><td>&lt;DEL&gt;</td><td>-439</td><td>DEL</td><td>1</td><td>116782</td><td>0/1</td><td>530</td></tr><tr><th>26</th><td>1</td><td>119184</td><td>&lt;DUP&gt;</td><td>246</td><td>DUP</td><td>1</td><td>119374</td><td>0/1</td><td>246</td></tr><tr><th>27</th><td>1</td><td>121665</td><td>&lt;DEL&gt;</td><td>-3151</td><td>DEL</td><td>1</td><td>124816</td><td>1/1</td><td>3145</td></tr><tr><th>28</th><td>1</td><td>129412</td><td>&lt;DEL&gt;</td><td>-171</td><td>DEL</td><td>1</td><td>129583</td><td>0/1</td><td>170</td></tr><tr><th>29</th><td>1</td><td>130944</td><td>&lt;DUP&gt;</td><td>319</td><td>DUP</td><td>1</td><td>131263</td><td>0/1</td><td>319</td></tr><tr><th>30</th><td>1</td><td>131785</td><td>&lt;INS&gt;</td><td>58</td><td>INS</td><td>1</td><td>131785</td><td>0/0</td><td>56</td></tr><tr><th>&vellip;</th><td>&vellip;</td><td>&vellip;</td><td>&vellip;</td><td>&vellip;</td><td>&vellip;</td><td>&vellip;</td><td>&vellip;</td><td>&vellip;</td><td>&vellip;</td></tr></tbody></table>"
      ],
      "text/latex": [
       "\\begin{tabular}{r|cccccccccc}\n",
       "\t& CHROM & POS & ALT & SVLEN & SVTYPE & CHR2 & END & GT & LN & \\\\\n",
       "\t\\hline\n",
       "\t& String & Int64 & String & Int64 & String & String & Int64 & String & Int64 & \\\\\n",
       "\t\\hline\n",
       "\t1 & 1 & 6774 & N[14:2961345[ & 0 & TRA & 14 & 2961345 & 0/0 & 1 & $\\dots$ \\\\\n",
       "\t2 & 1 & 9516 & N[14:2964594[ & 0 & TRA & 14 & 2964594 & 0/0 & 1 & $\\dots$ \\\\\n",
       "\t3 & 1 & 14623 & ]17:2155290]N & 0 & TRA & 17 & 2155290 & 0/0 & 1 & $\\dots$ \\\\\n",
       "\t4 & 1 & 15555 & N[11:20369783[ & 0 & TRA & 11 & 20369783 & 0/0 & 1 & $\\dots$ \\\\\n",
       "\t5 & 1 & 15555 & N[22:24120451[ & 0 & TRA & 22 & 24120451 & 0/0 & 1 & $\\dots$ \\\\\n",
       "\t6 & 1 & 15558 & N[22:26742061[ & 0 & TRA & 22 & 26742061 & 0/0 & 1 & $\\dots$ \\\\\n",
       "\t7 & 1 & 15358 & N[10:27116796[ & 0 & TRA & 10 & 27116796 & 0/0 & 1 & $\\dots$ \\\\\n",
       "\t8 & 1 & 15554 & N[3:29541650[ & 0 & TRA & 3 & 29541650 & 0/0 & 1 & $\\dots$ \\\\\n",
       "\t9 & 1 & 15551 & N[3:29596392[ & 0 & TRA & 3 & 29596392 & 0/0 & 1 & $\\dots$ \\\\\n",
       "\t10 & 1 & 15551 & N[9:32469005[ & 0 & TRA & 9 & 32469005 & 0/0 & 1 & $\\dots$ \\\\\n",
       "\t11 & 1 & 49952 & <INS> & 73 & INS & 1 & 49952 & 0/0 & 73 & $\\dots$ \\\\\n",
       "\t12 & 1 & 50931 & <INS> & 315 & INS & 1 & 50931 & 0/1 & 343 & $\\dots$ \\\\\n",
       "\t13 & 1 & 57130 & <INS> & 226 & INS & 1 & 57130 & 0/1 & 222 & $\\dots$ \\\\\n",
       "\t14 & 1 & 67640 & <DEL> & -5870 & DEL & 1 & 73510 & 0/1 & 5871 & $\\dots$ \\\\\n",
       "\t15 & 1 & 67646 & <DEL> & -7613 & DEL & 1 & 75252 & 0/0 & 7613 & $\\dots$ \\\\\n",
       "\t16 & 1 & 85020 & ]2:5287885]N & 0 & TRA & 2 & 5287885 & 0/0 & 1 & $\\dots$ \\\\\n",
       "\t17 & 1 & 89589 & <INS> & 273 & INS & 1 & 89589 & 0/1 & 268 & $\\dots$ \\\\\n",
       "\t18 & 1 & 90177 & <DEL> & -66 & DEL & 1 & 90241 & 0/1 & 66 & $\\dots$ \\\\\n",
       "\t19 & 1 & 90461 & <INS> & 848 & INS & 1 & 90461 & 0/1 & 883 & $\\dots$ \\\\\n",
       "\t20 & 1 & 89591 & ]6:32168495]N & 0 & TRA & 6 & 32168495 & 0/0 & 1 & $\\dots$ \\\\\n",
       "\t21 & 1 & 102745 & <DEL> & -180 & DEL & 1 & 102925 & 0/1 & 180 & $\\dots$ \\\\\n",
       "\t22 & 1 & 105510 & <INS> & 90 & INS & 1 & 105510 & 0/1 & 90 & $\\dots$ \\\\\n",
       "\t23 & 1 & 112340 & <DEL> & -178 & DEL & 1 & 112518 & 0/1 & 163 & $\\dots$ \\\\\n",
       "\t24 & 1 & 115284 & <DEL> & -752 & DEL & 1 & 116123 & 0/1 & 752 & $\\dots$ \\\\\n",
       "\t25 & 1 & 116343 & <DEL> & -439 & DEL & 1 & 116782 & 0/1 & 530 & $\\dots$ \\\\\n",
       "\t26 & 1 & 119184 & <DUP> & 246 & DUP & 1 & 119374 & 0/1 & 246 & $\\dots$ \\\\\n",
       "\t27 & 1 & 121665 & <DEL> & -3151 & DEL & 1 & 124816 & 1/1 & 3145 & $\\dots$ \\\\\n",
       "\t28 & 1 & 129412 & <DEL> & -171 & DEL & 1 & 129583 & 0/1 & 170 & $\\dots$ \\\\\n",
       "\t29 & 1 & 130944 & <DUP> & 319 & DUP & 1 & 131263 & 0/1 & 319 & $\\dots$ \\\\\n",
       "\t30 & 1 & 131785 & <INS> & 58 & INS & 1 & 131785 & 0/0 & 56 & $\\dots$ \\\\\n",
       "\t$\\dots$ & $\\dots$ & $\\dots$ & $\\dots$ & $\\dots$ & $\\dots$ & $\\dots$ & $\\dots$ & $\\dots$ & $\\dots$ &  \\\\\n",
       "\\end{tabular}\n"
      ],
      "text/plain": [
       "755728×11 DataFrame. Omitted printing of 5 columns\n",
       "│ Row    │ CHROM  │ POS      │ ALT            │ SVLEN │ SVTYPE │ CHR2   │\n",
       "│        │ \u001b[90mString\u001b[39m │ \u001b[90mInt64\u001b[39m    │ \u001b[90mString\u001b[39m         │ \u001b[90mInt64\u001b[39m │ \u001b[90mString\u001b[39m │ \u001b[90mString\u001b[39m │\n",
       "├────────┼────────┼──────────┼────────────────┼───────┼────────┼────────┤\n",
       "│ 1      │ 1      │ 6774     │ N[14:2961345[  │ 0     │ TRA    │ 14     │\n",
       "│ 2      │ 1      │ 9516     │ N[14:2964594[  │ 0     │ TRA    │ 14     │\n",
       "│ 3      │ 1      │ 14623    │ ]17:2155290]N  │ 0     │ TRA    │ 17     │\n",
       "│ 4      │ 1      │ 15555    │ N[11:20369783[ │ 0     │ TRA    │ 11     │\n",
       "│ 5      │ 1      │ 15555    │ N[22:24120451[ │ 0     │ TRA    │ 22     │\n",
       "│ 6      │ 1      │ 15558    │ N[22:26742061[ │ 0     │ TRA    │ 22     │\n",
       "│ 7      │ 1      │ 15358    │ N[10:27116796[ │ 0     │ TRA    │ 10     │\n",
       "│ 8      │ 1      │ 15554    │ N[3:29541650[  │ 0     │ TRA    │ 3      │\n",
       "│ 9      │ 1      │ 15551    │ N[3:29596392[  │ 0     │ TRA    │ 3      │\n",
       "│ 10     │ 1      │ 15551    │ N[9:32469005[  │ 0     │ TRA    │ 9      │\n",
       "⋮\n",
       "│ 755718 │ 24     │ 23566840 │ <INS>          │ 279   │ INS    │ 24     │\n",
       "│ 755719 │ 24     │ 23576436 │ <INS>          │ 56    │ INS    │ 24     │\n",
       "│ 755720 │ 24     │ 23597935 │ <INS>          │ 50    │ INS    │ 24     │\n",
       "│ 755721 │ 24     │ 23604738 │ <INS>          │ 1878  │ INS    │ 24     │\n",
       "│ 755722 │ 24     │ 23625221 │ <INS>          │ 128   │ INS    │ 24     │\n",
       "│ 755723 │ 24     │ 23642199 │ <DEL>          │ -3147 │ DEL    │ 24     │\n",
       "│ 755724 │ 24     │ 23654827 │ <DEL>          │ -1697 │ DEL    │ 24     │\n",
       "│ 755725 │ 24     │ 23664952 │ <INS>          │ 75    │ INS    │ 24     │\n",
       "│ 755726 │ 24     │ 23667438 │ <DEL>          │ -3141 │ DEL    │ 24     │\n",
       "│ 755727 │ MT     │ 3        │ <INV>          │ 16711 │ INV    │ MT     │\n",
       "│ 755728 │ MT     │ 3        │ <DUP>          │ 16714 │ DUP    │ MT     │"
      ]
     },
     "execution_count": 7,
     "metadata": {},
     "output_type": "execute_result"
    }
   ],
   "source": [
    "# Read in files and bind into single DF\n",
    "dfs = []\n",
    "for file in in_files\n",
    "    sample = replace(basename(file), \".csv\" => \"\")\n",
    "    df = DataFrame(CSV.File(file, header = [\"CHROM\", \"POS\", \"ALT\", \"SVLEN\", \"SVTYPE\", \"CHR2\", \"END\",\"GT\",\"LN\",\"ST\"]))\n",
    "    df[:SAMPLE] = sample\n",
    "    push!(dfs, df)\n",
    "end\n",
    "\n",
    "full_df = reduce(vcat, dfs)"
   ]
  },
  {
   "cell_type": "markdown",
   "metadata": {},
   "source": [
    "# Plot"
   ]
  },
  {
   "cell_type": "markdown",
   "metadata": {},
   "source": [
    "## Explore"
   ]
  },
  {
   "cell_type": "code",
   "execution_count": 9,
   "metadata": {},
   "outputs": [
    {
     "data": {
      "text/plain": [
       "Voyager(Electron.Window(Application(Base.PipeEndpoint(RawFD(0x00000037) paused, 0 bytes waiting), Process(`\u001b[4m/Users/brettell/.julia/artifacts/8dcb05674719648a37669520bc9a6ef8773032f2/Julia.app/Contents/MacOS/Julia\u001b[24m \u001b[4m/Users/brettell/.julia/packages/Electron/MNI24/src/main.js\u001b[24m \u001b[4m/var/folders/24/qgbyngx94ygb2fg_q0x5jf_r8kxxgt/T/jlel-0baec75a71de11eb23e4d9c4ff646eda\u001b[24m \u001b[4m/var/folders/24/qgbyngx94ygb2fg_q0x5jf_r8kxxgt/T/jlel-sn-0baed63c71de11eb0c1be37259c39ac6\u001b[24m \u001b[4mMpSs0CdI7+e0N32tYKRg/WB0DkLjZ58BmxMj6XwwxJeO/SMYaI8ZIhmXuOeN3KSQPXsVEQxH7HRZhjj/q8l8zN+n5iApg+nceiPvKwv715KYLRqrSogDnJ+P3eauk5wHAxM0hOVBNWPi5nt0kNXNkftEqsMnlZTsDSV+jru9LUM=\u001b[24m`, ProcessRunning), [1 window]), 2, true, Channel{Any}(sz_max:128,sz_curr:0)))"
      ]
     },
     "execution_count": 9,
     "metadata": {},
     "output_type": "execute_result"
    }
   ],
   "source": [
    "full_df |> Voyager()"
   ]
  },
  {
   "cell_type": "code",
   "execution_count": null,
   "metadata": {},
   "outputs": [],
   "source": []
  }
 ],
 "metadata": {
  "@webio": {
   "lastCommId": null,
   "lastKernelId": null
  },
  "kernelspec": {
   "display_name": "Julia 1.5.3",
   "language": "julia",
   "name": "julia-1.5"
  },
  "language_info": {
   "file_extension": ".jl",
   "mimetype": "application/julia",
   "name": "julia",
   "version": "1.5.3"
  }
 },
 "nbformat": 4,
 "nbformat_minor": 4
}
