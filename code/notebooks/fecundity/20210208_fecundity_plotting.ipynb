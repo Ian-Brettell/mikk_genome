{
 "cells": [
  {
   "cell_type": "markdown",
   "id": "combined-durham",
   "metadata": {},
   "source": [
    "# Setup"
   ]
  },
  {
   "cell_type": "code",
   "execution_count": 27,
   "id": "graphic-pasta",
   "metadata": {},
   "outputs": [
    {
     "name": "stderr",
     "output_type": "stream",
     "text": [
      "\u001b[32m\u001b[1m  Resolving\u001b[22m\u001b[39m package versions...\n",
      "\u001b[32m\u001b[1mUpdating\u001b[22m\u001b[39m `~/Documents/Repositories/mikk_genome/Project.toml`\n",
      " \u001b[90m [336ed68f] \u001b[39m\u001b[92m+ CSV v0.8.3\u001b[39m\n",
      "\u001b[32m\u001b[1mUpdating\u001b[22m\u001b[39m `~/Documents/Repositories/mikk_genome/Manifest.toml`\n",
      " \u001b[90m [336ed68f] \u001b[39m\u001b[92m+ CSV v0.8.3\u001b[39m\n",
      " \u001b[90m [91c51154] \u001b[39m\u001b[92m+ SentinelArrays v1.2.16\u001b[39m\n"
     ]
    }
   ],
   "source": [
    "Pkg.add(\"CSV\")"
   ]
  },
  {
   "cell_type": "code",
   "execution_count": 28,
   "id": "expanded-female",
   "metadata": {
    "scrolled": true
   },
   "outputs": [
    {
     "name": "stderr",
     "output_type": "stream",
     "text": [
      "┌ Info: Precompiling CSV [336ed68f-0bac-5ca0-87d4-7b16caf5d00b]\n",
      "└ @ Base loading.jl:1278\n"
     ]
    }
   ],
   "source": [
    "using CSV, Queryverse, DataVoyager, Interact"
   ]
  },
  {
   "cell_type": "markdown",
   "id": "adjacent-tattoo",
   "metadata": {},
   "source": [
    "## Read in data"
   ]
  },
  {
   "cell_type": "code",
   "execution_count": 36,
   "id": "scenic-entity",
   "metadata": {
    "scrolled": true
   },
   "outputs": [
    {
     "data": {
      "text/html": [
       "<table class=\"data-frame\"><thead><tr><th></th><th>GENERATION</th><th>STRAIN</th><th>FEMALE_COUNT</th><th>DATE</th><th>WEEKDAY</th><th>EGG_COUNT</th><th>EGGS_PER_FEMALE</th></tr><tr><th></th><th>String</th><th>String</th><th>Int64?</th><th>Date…</th><th>String</th><th>Int64?</th><th>Float64?</th></tr></thead><tbody><p>810 rows × 7 columns</p><tr><th>1</th><td>F15</td><td>4-1</td><td><em>missing</em></td><td>2020-07-02</td><td>Thursday</td><td><em>missing</em></td><td><em>missing</em></td></tr><tr><th>2</th><td>F15</td><td>4-1</td><td><em>missing</em></td><td>2020-07-03</td><td>Friday</td><td><em>missing</em></td><td><em>missing</em></td></tr><tr><th>3</th><td>F15</td><td>4-1</td><td><em>missing</em></td><td>2020-07-21</td><td>Tuesday</td><td><em>missing</em></td><td><em>missing</em></td></tr><tr><th>4</th><td>F15</td><td>4-1</td><td><em>missing</em></td><td>2020-07-23</td><td>Thursday</td><td><em>missing</em></td><td><em>missing</em></td></tr><tr><th>5</th><td>F15</td><td>4-1</td><td><em>missing</em></td><td>2020-07-28</td><td>Tuesday</td><td><em>missing</em></td><td><em>missing</em></td></tr><tr><th>6</th><td>F15</td><td>4-1</td><td><em>missing</em></td><td>2020-07-30</td><td>Thursday</td><td><em>missing</em></td><td><em>missing</em></td></tr><tr><th>7</th><td>F15</td><td>4-2</td><td>3</td><td>2020-07-02</td><td>Thursday</td><td>0</td><td>0.0</td></tr><tr><th>8</th><td>F15</td><td>4-2</td><td>3</td><td>2020-07-03</td><td>Friday</td><td>12</td><td>4.0</td></tr><tr><th>9</th><td>F15</td><td>4-2</td><td>3</td><td>2020-07-21</td><td>Tuesday</td><td>0</td><td>0.0</td></tr><tr><th>10</th><td>F15</td><td>4-2</td><td>3</td><td>2020-07-23</td><td>Thursday</td><td>0</td><td>0.0</td></tr><tr><th>11</th><td>F15</td><td>4-2</td><td>3</td><td>2020-07-28</td><td>Tuesday</td><td>3</td><td>1.0</td></tr><tr><th>12</th><td>F15</td><td>4-2</td><td>3</td><td>2020-07-30</td><td>Thursday</td><td>4</td><td>1.33333</td></tr><tr><th>13</th><td>F15</td><td>5-1</td><td>7</td><td>2020-07-02</td><td>Thursday</td><td><em>missing</em></td><td><em>missing</em></td></tr><tr><th>14</th><td>F15</td><td>5-1</td><td>7</td><td>2020-07-03</td><td>Friday</td><td><em>missing</em></td><td><em>missing</em></td></tr><tr><th>15</th><td>F15</td><td>5-1</td><td>7</td><td>2020-07-21</td><td>Tuesday</td><td><em>missing</em></td><td><em>missing</em></td></tr><tr><th>16</th><td>F15</td><td>5-1</td><td>7</td><td>2020-07-23</td><td>Thursday</td><td><em>missing</em></td><td><em>missing</em></td></tr><tr><th>17</th><td>F15</td><td>5-1</td><td>7</td><td>2020-07-28</td><td>Tuesday</td><td><em>missing</em></td><td><em>missing</em></td></tr><tr><th>18</th><td>F15</td><td>5-1</td><td>7</td><td>2020-07-30</td><td>Thursday</td><td><em>missing</em></td><td><em>missing</em></td></tr><tr><th>19</th><td>F15</td><td>7-2</td><td>1</td><td>2020-07-02</td><td>Thursday</td><td><em>missing</em></td><td><em>missing</em></td></tr><tr><th>20</th><td>F15</td><td>7-2</td><td>1</td><td>2020-07-03</td><td>Friday</td><td><em>missing</em></td><td><em>missing</em></td></tr><tr><th>21</th><td>F15</td><td>7-2</td><td>1</td><td>2020-07-21</td><td>Tuesday</td><td><em>missing</em></td><td><em>missing</em></td></tr><tr><th>22</th><td>F15</td><td>7-2</td><td>1</td><td>2020-07-23</td><td>Thursday</td><td><em>missing</em></td><td><em>missing</em></td></tr><tr><th>23</th><td>F15</td><td>7-2</td><td>1</td><td>2020-07-28</td><td>Tuesday</td><td><em>missing</em></td><td><em>missing</em></td></tr><tr><th>24</th><td>F15</td><td>7-2</td><td>1</td><td>2020-07-30</td><td>Thursday</td><td><em>missing</em></td><td><em>missing</em></td></tr><tr><th>25</th><td>F15</td><td>8-2</td><td><em>missing</em></td><td>2020-07-02</td><td>Thursday</td><td>8</td><td><em>missing</em></td></tr><tr><th>26</th><td>F15</td><td>8-2</td><td><em>missing</em></td><td>2020-07-03</td><td>Friday</td><td>0</td><td><em>missing</em></td></tr><tr><th>27</th><td>F15</td><td>8-2</td><td><em>missing</em></td><td>2020-07-21</td><td>Tuesday</td><td>0</td><td><em>missing</em></td></tr><tr><th>28</th><td>F15</td><td>8-2</td><td><em>missing</em></td><td>2020-07-23</td><td>Thursday</td><td>0</td><td><em>missing</em></td></tr><tr><th>29</th><td>F15</td><td>8-2</td><td><em>missing</em></td><td>2020-07-28</td><td>Tuesday</td><td>4</td><td><em>missing</em></td></tr><tr><th>30</th><td>F15</td><td>8-2</td><td><em>missing</em></td><td>2020-07-30</td><td>Thursday</td><td>0</td><td><em>missing</em></td></tr><tr><th>&vellip;</th><td>&vellip;</td><td>&vellip;</td><td>&vellip;</td><td>&vellip;</td><td>&vellip;</td><td>&vellip;</td><td>&vellip;</td></tr></tbody></table>"
      ],
      "text/latex": [
       "\\begin{tabular}{r|ccccccc}\n",
       "\t& GENERATION & STRAIN & FEMALE\\_COUNT & DATE & WEEKDAY & EGG\\_COUNT & EGGS\\_PER\\_FEMALE\\\\\n",
       "\t\\hline\n",
       "\t& String & String & Int64? & Date… & String & Int64? & Float64?\\\\\n",
       "\t\\hline\n",
       "\t1 & F15 & 4-1 & \\emph{missing} & 2020-07-02 & Thursday & \\emph{missing} & \\emph{missing} \\\\\n",
       "\t2 & F15 & 4-1 & \\emph{missing} & 2020-07-03 & Friday & \\emph{missing} & \\emph{missing} \\\\\n",
       "\t3 & F15 & 4-1 & \\emph{missing} & 2020-07-21 & Tuesday & \\emph{missing} & \\emph{missing} \\\\\n",
       "\t4 & F15 & 4-1 & \\emph{missing} & 2020-07-23 & Thursday & \\emph{missing} & \\emph{missing} \\\\\n",
       "\t5 & F15 & 4-1 & \\emph{missing} & 2020-07-28 & Tuesday & \\emph{missing} & \\emph{missing} \\\\\n",
       "\t6 & F15 & 4-1 & \\emph{missing} & 2020-07-30 & Thursday & \\emph{missing} & \\emph{missing} \\\\\n",
       "\t7 & F15 & 4-2 & 3 & 2020-07-02 & Thursday & 0 & 0.0 \\\\\n",
       "\t8 & F15 & 4-2 & 3 & 2020-07-03 & Friday & 12 & 4.0 \\\\\n",
       "\t9 & F15 & 4-2 & 3 & 2020-07-21 & Tuesday & 0 & 0.0 \\\\\n",
       "\t10 & F15 & 4-2 & 3 & 2020-07-23 & Thursday & 0 & 0.0 \\\\\n",
       "\t11 & F15 & 4-2 & 3 & 2020-07-28 & Tuesday & 3 & 1.0 \\\\\n",
       "\t12 & F15 & 4-2 & 3 & 2020-07-30 & Thursday & 4 & 1.33333 \\\\\n",
       "\t13 & F15 & 5-1 & 7 & 2020-07-02 & Thursday & \\emph{missing} & \\emph{missing} \\\\\n",
       "\t14 & F15 & 5-1 & 7 & 2020-07-03 & Friday & \\emph{missing} & \\emph{missing} \\\\\n",
       "\t15 & F15 & 5-1 & 7 & 2020-07-21 & Tuesday & \\emph{missing} & \\emph{missing} \\\\\n",
       "\t16 & F15 & 5-1 & 7 & 2020-07-23 & Thursday & \\emph{missing} & \\emph{missing} \\\\\n",
       "\t17 & F15 & 5-1 & 7 & 2020-07-28 & Tuesday & \\emph{missing} & \\emph{missing} \\\\\n",
       "\t18 & F15 & 5-1 & 7 & 2020-07-30 & Thursday & \\emph{missing} & \\emph{missing} \\\\\n",
       "\t19 & F15 & 7-2 & 1 & 2020-07-02 & Thursday & \\emph{missing} & \\emph{missing} \\\\\n",
       "\t20 & F15 & 7-2 & 1 & 2020-07-03 & Friday & \\emph{missing} & \\emph{missing} \\\\\n",
       "\t21 & F15 & 7-2 & 1 & 2020-07-21 & Tuesday & \\emph{missing} & \\emph{missing} \\\\\n",
       "\t22 & F15 & 7-2 & 1 & 2020-07-23 & Thursday & \\emph{missing} & \\emph{missing} \\\\\n",
       "\t23 & F15 & 7-2 & 1 & 2020-07-28 & Tuesday & \\emph{missing} & \\emph{missing} \\\\\n",
       "\t24 & F15 & 7-2 & 1 & 2020-07-30 & Thursday & \\emph{missing} & \\emph{missing} \\\\\n",
       "\t25 & F15 & 8-2 & \\emph{missing} & 2020-07-02 & Thursday & 8 & \\emph{missing} \\\\\n",
       "\t26 & F15 & 8-2 & \\emph{missing} & 2020-07-03 & Friday & 0 & \\emph{missing} \\\\\n",
       "\t27 & F15 & 8-2 & \\emph{missing} & 2020-07-21 & Tuesday & 0 & \\emph{missing} \\\\\n",
       "\t28 & F15 & 8-2 & \\emph{missing} & 2020-07-23 & Thursday & 0 & \\emph{missing} \\\\\n",
       "\t29 & F15 & 8-2 & \\emph{missing} & 2020-07-28 & Tuesday & 4 & \\emph{missing} \\\\\n",
       "\t30 & F15 & 8-2 & \\emph{missing} & 2020-07-30 & Thursday & 0 & \\emph{missing} \\\\\n",
       "\t$\\dots$ & $\\dots$ & $\\dots$ & $\\dots$ & $\\dots$ & $\\dots$ & $\\dots$ & $\\dots$ \\\\\n",
       "\\end{tabular}\n"
      ],
      "text/plain": [
       "810×7 DataFrame. Omitted printing of 1 columns\n",
       "│ Row │ GENERATION │ STRAIN │ FEMALE_COUNT │ DATE       │ WEEKDAY  │ EGG_COUNT │\n",
       "│     │ \u001b[90mString\u001b[39m     │ \u001b[90mString\u001b[39m │ \u001b[90mInt64?\u001b[39m       │ \u001b[90mDates.Date\u001b[39m │ \u001b[90mString\u001b[39m   │ \u001b[90mInt64?\u001b[39m    │\n",
       "├─────┼────────────┼────────┼──────────────┼────────────┼──────────┼───────────┤\n",
       "│ 1   │ F15        │ 4-1    │ \u001b[90mmissing\u001b[39m      │ 2020-07-02 │ Thursday │ \u001b[90mmissing\u001b[39m   │\n",
       "│ 2   │ F15        │ 4-1    │ \u001b[90mmissing\u001b[39m      │ 2020-07-03 │ Friday   │ \u001b[90mmissing\u001b[39m   │\n",
       "│ 3   │ F15        │ 4-1    │ \u001b[90mmissing\u001b[39m      │ 2020-07-21 │ Tuesday  │ \u001b[90mmissing\u001b[39m   │\n",
       "│ 4   │ F15        │ 4-1    │ \u001b[90mmissing\u001b[39m      │ 2020-07-23 │ Thursday │ \u001b[90mmissing\u001b[39m   │\n",
       "│ 5   │ F15        │ 4-1    │ \u001b[90mmissing\u001b[39m      │ 2020-07-28 │ Tuesday  │ \u001b[90mmissing\u001b[39m   │\n",
       "│ 6   │ F15        │ 4-1    │ \u001b[90mmissing\u001b[39m      │ 2020-07-30 │ Thursday │ \u001b[90mmissing\u001b[39m   │\n",
       "│ 7   │ F15        │ 4-2    │ 3            │ 2020-07-02 │ Thursday │ 0         │\n",
       "│ 8   │ F15        │ 4-2    │ 3            │ 2020-07-03 │ Friday   │ 12        │\n",
       "│ 9   │ F15        │ 4-2    │ 3            │ 2020-07-21 │ Tuesday  │ 0         │\n",
       "│ 10  │ F15        │ 4-2    │ 3            │ 2020-07-23 │ Thursday │ 0         │\n",
       "⋮\n",
       "│ 800 │ F16        │ 139-4  │ 2            │ 2020-08-06 │ Thursday │ 5         │\n",
       "│ 801 │ F16        │ 139-4  │ 2            │ 2020-08-13 │ Thursday │ \u001b[90mmissing\u001b[39m   │\n",
       "│ 802 │ F16        │ 139-4  │ 2            │ 2020-08-20 │ Thursday │ \u001b[90mmissing\u001b[39m   │\n",
       "│ 803 │ F16        │ 140-1  │ \u001b[90mmissing\u001b[39m      │ 2020-08-04 │ Tuesday  │ \u001b[90mmissing\u001b[39m   │\n",
       "│ 804 │ F16        │ 140-1  │ \u001b[90mmissing\u001b[39m      │ 2020-08-06 │ Thursday │ \u001b[90mmissing\u001b[39m   │\n",
       "│ 805 │ F16        │ 140-1  │ \u001b[90mmissing\u001b[39m      │ 2020-08-13 │ Thursday │ \u001b[90mmissing\u001b[39m   │\n",
       "│ 806 │ F16        │ 140-1  │ \u001b[90mmissing\u001b[39m      │ 2020-08-20 │ Thursday │ \u001b[90mmissing\u001b[39m   │\n",
       "│ 807 │ F16        │ 140-3  │ 2            │ 2020-08-04 │ Tuesday  │ 3         │\n",
       "│ 808 │ F16        │ 140-3  │ 2            │ 2020-08-06 │ Thursday │ 7         │\n",
       "│ 809 │ F16        │ 140-3  │ 2            │ 2020-08-13 │ Thursday │ 0         │\n",
       "│ 810 │ F16        │ 140-3  │ 2            │ 2020-08-20 │ Thursday │ 0         │"
      ]
     },
     "execution_count": 36,
     "metadata": {},
     "output_type": "execute_result"
    }
   ],
   "source": [
    "df = DataFrame(CSV.File(\"/Users/brettell/Documents/Repositories/mikk_genome/data/fecundity/20210208_quant.csv\",\n",
    "        types=Dict(\"STRAIN\" => String)))"
   ]
  },
  {
   "cell_type": "code",
   "execution_count": 37,
   "id": "patent-track",
   "metadata": {
    "scrolled": true
   },
   "outputs": [
    {
     "data": {
      "text/plain": [
       "Voyager(Electron.Window(Application(Base.PipeEndpoint(RawFD(0x00000035) paused, 0 bytes waiting), Process(`\u001b[4m/Users/brettell/.julia/artifacts/8dcb05674719648a37669520bc9a6ef8773032f2/Julia.app/Contents/MacOS/Julia\u001b[24m \u001b[4m/Users/brettell/.julia/packages/Electron/MNI24/src/main.js\u001b[24m \u001b[4m/var/folders/24/qgbyngx94ygb2fg_q0x5jf_r8kxxgt/T/jlel-0bfb198669f311eb10fdfd25033b02d3\u001b[24m \u001b[4m/var/folders/24/qgbyngx94ygb2fg_q0x5jf_r8kxxgt/T/jlel-sn-0bfb548269f311eb27f323347a31beaf\u001b[24m \u001b[4mVJ7cBVuzv4DZCnTLQ+P3wQXfufBsagpPhpLXsKa8VOhvzN8pUzZky8/dBRiCYxGB+FqQ34vrrwsEswjommE4CGVD3hJI+B7qHoeNa+frUkCRG+H38Ol07fAu4hYoaKVjcsd+hAefOrjuOBerUBXgFDM4dp3VR+JNUp/cUgwRlvE=\u001b[24m`, ProcessRunning), [2 windows]), 5, true, Channel{Any}(sz_max:128,sz_curr:0)))"
      ]
     },
     "execution_count": 37,
     "metadata": {},
     "output_type": "execute_result"
    }
   ],
   "source": [
    "df |> Voyager()"
   ]
  },
  {
   "cell_type": "code",
   "execution_count": 38,
   "id": "speaking-hampshire",
   "metadata": {},
   "outputs": [
    {
     "data": {
      "text/plain": [
       "81-element Array{String,1}:\n",
       " \"4-1\"\n",
       " \"4-2\"\n",
       " \"5-1\"\n",
       " \"7-2\"\n",
       " \"8-2\"\n",
       " \"10-1\"\n",
       " \"11-1\"\n",
       " \"11-2\"\n",
       " \"13-2\"\n",
       " \"14-1\"\n",
       " \"14-2\"\n",
       " \"15-1\"\n",
       " \"17-1\"\n",
       " ⋮\n",
       " \"131-2\"\n",
       " \"131-4\"\n",
       " \"132-4\"\n",
       " \"132-5\"\n",
       " \"134-1\"\n",
       " \"135-1\"\n",
       " \"135-2\"\n",
       " \"137-4\"\n",
       " \"138-1\"\n",
       " \"139-4\"\n",
       " \"140-1\"\n",
       " \"140-3\""
      ]
     },
     "execution_count": 38,
     "metadata": {},
     "output_type": "execute_result"
    }
   ],
   "source": [
    "unique(df[!, :STRAIN])"
   ]
  }
 ],
 "metadata": {
  "kernelspec": {
   "display_name": "Julia 1.5.3",
   "language": "julia",
   "name": "julia-1.5"
  },
  "language_info": {
   "file_extension": ".jl",
   "mimetype": "application/julia",
   "name": "julia",
   "version": "1.5.3"
  }
 },
 "nbformat": 4,
 "nbformat_minor": 5
}
